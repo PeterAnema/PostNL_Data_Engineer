{
 "cells": [
  {
   "cell_type": "markdown",
   "id": "41f9e3b4",
   "metadata": {},
   "source": [
    "# Dit is mijn eerste notebook"
   ]
  },
  {
   "cell_type": "code",
   "execution_count": 5,
   "id": "8efd8028",
   "metadata": {},
   "outputs": [
    {
     "name": "stdout",
     "output_type": "stream",
     "text": [
      "Hello World\n"
     ]
    }
   ],
   "source": [
    "print('Hello World')"
   ]
  },
  {
   "cell_type": "code",
   "execution_count": 2,
   "id": "44e65a0f",
   "metadata": {},
   "outputs": [
    {
     "data": {
      "text/plain": [
       "87279"
      ]
     },
     "execution_count": 2,
     "metadata": {},
     "output_type": "execute_result"
    }
   ],
   "source": [
    "3487 + 83792"
   ]
  },
  {
   "cell_type": "code",
   "execution_count": 4,
   "id": "d82e32a9",
   "metadata": {},
   "outputs": [
    {
     "data": {
      "text/plain": [
       "[1, 2, 3, 4]"
      ]
     },
     "execution_count": 4,
     "metadata": {},
     "output_type": "execute_result"
    }
   ],
   "source": [
    "getallen = [1,2,3]\n",
    "getallen.append(4)\n",
    "getallen"
   ]
  },
  {
   "cell_type": "code",
   "execution_count": 6,
   "id": "3c324844",
   "metadata": {},
   "outputs": [
    {
     "name": "stdout",
     "output_type": "stream",
     "text": [
      "First Notebook.ipynb\r\n"
     ]
    }
   ],
   "source": [
    "!ls"
   ]
  },
  {
   "cell_type": "code",
   "execution_count": 9,
   "id": "3c439409",
   "metadata": {},
   "outputs": [
    {
     "name": "stdout",
     "output_type": "stream",
     "text": [
      "/Users/peter/Computrain/_InCompany/PostNL/Data Science/Sandbox\r\n"
     ]
    }
   ],
   "source": [
    "!pwd"
   ]
  },
  {
   "cell_type": "markdown",
   "id": "7cb8fd82",
   "metadata": {},
   "source": [
    "## Markdown\n",
    "\n",
    "Dit is een markdown cel met **bold** en _italics_."
   ]
  },
  {
   "cell_type": "code",
   "execution_count": null,
   "id": "8cb21cc2",
   "metadata": {},
   "outputs": [],
   "source": []
  }
 ],
 "metadata": {
  "kernelspec": {
   "display_name": "Python 3.9.5 64-bit ('base': conda)",
   "language": "python",
   "name": "python395jvsc74a57bd0e7cb1b9ae4d417fedf7f40a8eec98f7cfbd359e096bd857395a915f4609834ce"
  },
  "language_info": {
   "codemirror_mode": {
    "name": "ipython",
    "version": 3
   },
   "file_extension": ".py",
   "mimetype": "text/x-python",
   "name": "python",
   "nbconvert_exporter": "python",
   "pygments_lexer": "ipython3",
   "version": "3.9.9"
  }
 },
 "nbformat": 4,
 "nbformat_minor": 5
}
