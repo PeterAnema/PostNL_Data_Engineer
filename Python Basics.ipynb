{
 "cells": [
  {
   "cell_type": "markdown",
   "id": "b360cfa9",
   "metadata": {},
   "source": [
    "## Numeric types"
   ]
  },
  {
   "cell_type": "markdown",
   "id": "4b72b672",
   "metadata": {},
   "source": [
    "#### int"
   ]
  },
  {
   "cell_type": "code",
   "execution_count": 1,
   "id": "b2f68f1a",
   "metadata": {},
   "outputs": [],
   "source": [
    "n = 1000"
   ]
  },
  {
   "cell_type": "markdown",
   "id": "5dcc21c2",
   "metadata": {},
   "source": [
    "#### float"
   ]
  },
  {
   "cell_type": "code",
   "execution_count": 8,
   "id": "42b40aac",
   "metadata": {},
   "outputs": [],
   "source": [
    "number1 = 0.1\n",
    "number2 = 0.2"
   ]
  },
  {
   "cell_type": "code",
   "execution_count": 6,
   "id": "fed969f4",
   "metadata": {},
   "outputs": [
    {
     "data": {
      "text/plain": [
       "0.2"
      ]
     },
     "execution_count": 6,
     "metadata": {},
     "output_type": "execute_result"
    }
   ],
   "source": [
    "number1 + number1"
   ]
  },
  {
   "cell_type": "code",
   "execution_count": 3,
   "id": "d2b1deed",
   "metadata": {},
   "outputs": [
    {
     "data": {
      "text/plain": [
       "0.30000000000000004"
      ]
     },
     "execution_count": 3,
     "metadata": {},
     "output_type": "execute_result"
    }
   ],
   "source": [
    "number1 + number2"
   ]
  },
  {
   "cell_type": "markdown",
   "id": "74dbc84e",
   "metadata": {},
   "source": [
    "#### complex\n",
    "\n",
    "What is the root of -1?"
   ]
  },
  {
   "cell_type": "code",
   "execution_count": 17,
   "id": "d346e728",
   "metadata": {},
   "outputs": [
    {
     "data": {
      "text/plain": [
       "(6.123233995736766e-17+1j)"
      ]
     },
     "execution_count": 17,
     "metadata": {},
     "output_type": "execute_result"
    }
   ],
   "source": [
    "c = (-1) ** 0.5\n",
    "c"
   ]
  },
  {
   "cell_type": "code",
   "execution_count": 18,
   "id": "6d5e2278",
   "metadata": {},
   "outputs": [
    {
     "data": {
      "text/plain": [
       "complex"
      ]
     },
     "execution_count": 18,
     "metadata": {},
     "output_type": "execute_result"
    }
   ],
   "source": [
    "type(c)"
   ]
  },
  {
   "cell_type": "markdown",
   "id": "b6055285",
   "metadata": {},
   "source": [
    "## Operators\n",
    "\n",
    "* \\+ : addition\n",
    "* \\- : subtraction\n",
    "* \\* : multiply\n",
    "* / : division\n",
    "* // : floored division\n",
    "* % : modulo\n",
    "* ** : power"
   ]
  },
  {
   "cell_type": "code",
   "execution_count": 21,
   "id": "4f92b412",
   "metadata": {},
   "outputs": [
    {
     "data": {
      "text/plain": [
       "2"
      ]
     },
     "execution_count": 21,
     "metadata": {},
     "output_type": "execute_result"
    }
   ],
   "source": [
    "17 // 7"
   ]
  },
  {
   "cell_type": "code",
   "execution_count": 22,
   "id": "f5dd12b0",
   "metadata": {},
   "outputs": [
    {
     "data": {
      "text/plain": [
       "3"
      ]
     },
     "execution_count": 22,
     "metadata": {},
     "output_type": "execute_result"
    }
   ],
   "source": [
    "17 % 7"
   ]
  },
  {
   "cell_type": "markdown",
   "id": "05c531aa",
   "metadata": {},
   "source": [
    "## Conditional opeators\n",
    "\n",
    "* \\>\n",
    "* \\>=\n",
    "* \\<\n",
    "* \\<=\n",
    "* \\==\n",
    "* \\!="
   ]
  },
  {
   "cell_type": "markdown",
   "id": "cf3227cf",
   "metadata": {},
   "source": [
    "## Boolean operators\n",
    "\n",
    "* and\n",
    "* or\n",
    "* not"
   ]
  },
  {
   "cell_type": "code",
   "execution_count": 23,
   "id": "630b2f09",
   "metadata": {},
   "outputs": [],
   "source": [
    "getal = 8"
   ]
  },
  {
   "cell_type": "code",
   "execution_count": 24,
   "id": "47a2621a",
   "metadata": {},
   "outputs": [
    {
     "data": {
      "text/plain": [
       "True"
      ]
     },
     "execution_count": 24,
     "metadata": {},
     "output_type": "execute_result"
    }
   ],
   "source": [
    "getal > 1 and getal < 10"
   ]
  },
  {
   "cell_type": "code",
   "execution_count": 25,
   "id": "f4249363",
   "metadata": {},
   "outputs": [
    {
     "data": {
      "text/plain": [
       "True"
      ]
     },
     "execution_count": 25,
     "metadata": {},
     "output_type": "execute_result"
    }
   ],
   "source": [
    "1 < getal < 10"
   ]
  },
  {
   "cell_type": "markdown",
   "id": "cce1725d",
   "metadata": {},
   "source": [
    "## Bitwise operators\n",
    "\n",
    "* \\& : and\n",
    "* \\| : or\n",
    "* \\^ : xor\n",
    "* \\! : not"
   ]
  },
  {
   "cell_type": "code",
   "execution_count": 26,
   "id": "1bdcbe7b",
   "metadata": {},
   "outputs": [],
   "source": [
    "n1 = 7    # 0111\n",
    "n2 = 5    # 0101"
   ]
  },
  {
   "cell_type": "code",
   "execution_count": 27,
   "id": "bcc3c497",
   "metadata": {},
   "outputs": [
    {
     "data": {
      "text/plain": [
       "7"
      ]
     },
     "execution_count": 27,
     "metadata": {},
     "output_type": "execute_result"
    }
   ],
   "source": [
    "n1 | n2"
   ]
  },
  {
   "cell_type": "code",
   "execution_count": 28,
   "id": "8b683086",
   "metadata": {},
   "outputs": [
    {
     "data": {
      "text/plain": [
       "5"
      ]
     },
     "execution_count": 28,
     "metadata": {},
     "output_type": "execute_result"
    }
   ],
   "source": [
    "n1 & n2"
   ]
  },
  {
   "cell_type": "code",
   "execution_count": 29,
   "id": "3f19dce3",
   "metadata": {},
   "outputs": [
    {
     "data": {
      "text/plain": [
       "2"
      ]
     },
     "execution_count": 29,
     "metadata": {},
     "output_type": "execute_result"
    }
   ],
   "source": [
    "n1 ^ n2"
   ]
  },
  {
   "cell_type": "markdown",
   "id": "3e03e764",
   "metadata": {},
   "source": [
    "## Strings"
   ]
  },
  {
   "cell_type": "code",
   "execution_count": 30,
   "id": "654e674d",
   "metadata": {},
   "outputs": [],
   "source": [
    "s = 'abcdefg'"
   ]
  },
  {
   "cell_type": "code",
   "execution_count": 31,
   "id": "c0bb8eb1",
   "metadata": {},
   "outputs": [],
   "source": [
    "sentence = \"this is an example of a string\""
   ]
  },
  {
   "cell_type": "code",
   "execution_count": 32,
   "id": "3258cc5a",
   "metadata": {},
   "outputs": [
    {
     "data": {
      "text/plain": [
       "'THIS IS AN EXAMPLE OF A STRING'"
      ]
     },
     "execution_count": 32,
     "metadata": {},
     "output_type": "execute_result"
    }
   ],
   "source": [
    "sentence.upper()"
   ]
  },
  {
   "cell_type": "code",
   "execution_count": 33,
   "id": "24483300",
   "metadata": {},
   "outputs": [
    {
     "data": {
      "text/plain": [
       "'This Is An Example Of A String'"
      ]
     },
     "execution_count": 33,
     "metadata": {},
     "output_type": "execute_result"
    }
   ],
   "source": [
    "sentence.title()"
   ]
  },
  {
   "cell_type": "code",
   "execution_count": 34,
   "id": "62695304",
   "metadata": {},
   "outputs": [
    {
     "data": {
      "text/plain": [
       "'This is an example of a string'"
      ]
     },
     "execution_count": 34,
     "metadata": {},
     "output_type": "execute_result"
    }
   ],
   "source": [
    "sentence.capitalize()"
   ]
  },
  {
   "cell_type": "code",
   "execution_count": 38,
   "id": "53dc066b",
   "metadata": {},
   "outputs": [
    {
     "data": {
      "text/plain": [
       "['this', 'is', 'an', 'example', 'of', 'a', 'string']"
      ]
     },
     "execution_count": 38,
     "metadata": {},
     "output_type": "execute_result"
    }
   ],
   "source": [
    "words = sentence.split()\n",
    "words"
   ]
  },
  {
   "cell_type": "code",
   "execution_count": 40,
   "id": "254b2c74",
   "metadata": {},
   "outputs": [
    {
     "data": {
      "text/plain": [
       "'this_is_an_example_of_a_string'"
      ]
     },
     "execution_count": 40,
     "metadata": {},
     "output_type": "execute_result"
    }
   ],
   "source": [
    "'_'.join(words)"
   ]
  },
  {
   "cell_type": "code",
   "execution_count": 44,
   "id": "0d42b824",
   "metadata": {},
   "outputs": [
    {
     "name": "stdout",
     "output_type": "stream",
     "text": [
      "The result is 4.68\n",
      "The result is 4.68\n"
     ]
    }
   ],
   "source": [
    "result = 4.6784\n",
    "print('The result is %.2f' % result)\n",
    "print(f'The result is {result:.2f}')"
   ]
  },
  {
   "cell_type": "markdown",
   "id": "963228f7",
   "metadata": {},
   "source": [
    "### Unicode"
   ]
  },
  {
   "cell_type": "code",
   "execution_count": 45,
   "id": "ddc1bd4e",
   "metadata": {},
   "outputs": [],
   "source": [
    "ascii = 'abcde..xyzABCD...XYZ0123456789!@#$%^&*()_'"
   ]
  },
  {
   "cell_type": "code",
   "execution_count": 48,
   "id": "fea5f7a7",
   "metadata": {},
   "outputs": [
    {
     "data": {
      "text/plain": [
       "'Ʒ'"
      ]
     },
     "execution_count": 48,
     "metadata": {},
     "output_type": "execute_result"
    }
   ],
   "source": [
    "c = '\\u01B7'\n",
    "c"
   ]
  },
  {
   "cell_type": "code",
   "execution_count": 51,
   "id": "7ad3d022",
   "metadata": {},
   "outputs": [
    {
     "data": {
      "text/plain": [
       "'patiënt'"
      ]
     },
     "execution_count": 51,
     "metadata": {},
     "output_type": "execute_result"
    }
   ],
   "source": [
    "'pati\\u00EBnt'"
   ]
  },
  {
   "cell_type": "markdown",
   "id": "54404161",
   "metadata": {},
   "source": [
    "## Flow statements"
   ]
  },
  {
   "cell_type": "code",
   "execution_count": 55,
   "id": "b063dbdd",
   "metadata": {},
   "outputs": [
    {
     "name": "stdout",
     "output_type": "stream",
     "text": [
      "2\n",
      "7\n",
      "4\n",
      "9\n",
      "5\n",
      "6\n",
      "Klaar!\n"
     ]
    }
   ],
   "source": [
    "for getal in [2,7,4,9,5,6]:\n",
    "    print(getal)\n",
    "print('Klaar!')"
   ]
  },
  {
   "cell_type": "markdown",
   "id": "45de710f",
   "metadata": {},
   "source": [
    "## Functions"
   ]
  },
  {
   "cell_type": "code",
   "execution_count": 78,
   "id": "7adbd50d",
   "metadata": {},
   "outputs": [],
   "source": [
    "def maximum_minimum(*getallen):\n",
    "    mx = getallen[0]\n",
    "    mn = getallen[0]\n",
    "    for getal in getallen[1:]:\n",
    "        if getal > mx:\n",
    "            mx = getal\n",
    "        if getal < mn:\n",
    "            mn = getal\n",
    "    return mn, mx"
   ]
  },
  {
   "cell_type": "code",
   "execution_count": 76,
   "id": "76819aea",
   "metadata": {},
   "outputs": [
    {
     "data": {
      "text/plain": [
       "(1, 56)"
      ]
     },
     "execution_count": 76,
     "metadata": {},
     "output_type": "execute_result"
    }
   ],
   "source": [
    "result = maximum_minimum(7, 23, 6, 1, 56)\n",
    "result"
   ]
  },
  {
   "cell_type": "code",
   "execution_count": 79,
   "id": "d54df598",
   "metadata": {},
   "outputs": [],
   "source": [
    "minimum, maximum = maximum_minimum(7, 23, 6, 1, 56)"
   ]
  },
  {
   "cell_type": "code",
   "execution_count": 80,
   "id": "07b89490",
   "metadata": {},
   "outputs": [
    {
     "data": {
      "text/plain": [
       "1"
      ]
     },
     "execution_count": 80,
     "metadata": {},
     "output_type": "execute_result"
    }
   ],
   "source": [
    "minimum"
   ]
  },
  {
   "cell_type": "code",
   "execution_count": 81,
   "id": "eafeee91",
   "metadata": {},
   "outputs": [
    {
     "data": {
      "text/plain": [
       "56"
      ]
     },
     "execution_count": 81,
     "metadata": {},
     "output_type": "execute_result"
    }
   ],
   "source": [
    "maximum"
   ]
  },
  {
   "cell_type": "code",
   "execution_count": 89,
   "id": "dada01eb",
   "metadata": {},
   "outputs": [],
   "source": [
    "def banner(s, star = '*', n = 1):\n",
    "    print(star*n + ' ' + s + ' ' + star*n)"
   ]
  },
  {
   "cell_type": "code",
   "execution_count": 90,
   "id": "36942975",
   "metadata": {},
   "outputs": [
    {
     "name": "stdout",
     "output_type": "stream",
     "text": [
      "* Peter *\n"
     ]
    }
   ],
   "source": [
    "banner('Peter')"
   ]
  },
  {
   "cell_type": "code",
   "execution_count": 91,
   "id": "5ea69454",
   "metadata": {},
   "outputs": [
    {
     "name": "stdout",
     "output_type": "stream",
     "text": [
      "# Peter #\n"
     ]
    }
   ],
   "source": [
    "banner('Peter', '#')"
   ]
  },
  {
   "cell_type": "code",
   "execution_count": 92,
   "id": "7e001669",
   "metadata": {},
   "outputs": [
    {
     "name": "stdout",
     "output_type": "stream",
     "text": [
      "########## Peter ##########\n"
     ]
    }
   ],
   "source": [
    "banner('Peter', '#', 10)"
   ]
  },
  {
   "cell_type": "code",
   "execution_count": 96,
   "id": "c54cf675",
   "metadata": {},
   "outputs": [
    {
     "name": "stdout",
     "output_type": "stream",
     "text": [
      "!!!!!!!!!! Peter !!!!!!!!!!\n"
     ]
    }
   ],
   "source": [
    "banner('Peter', n = 10, star = '!')"
   ]
  },
  {
   "cell_type": "code",
   "execution_count": 97,
   "id": "0a7a6eca",
   "metadata": {},
   "outputs": [],
   "source": [
    "import pandas as pd"
   ]
  },
  {
   "cell_type": "code",
   "execution_count": 98,
   "id": "1b79485e",
   "metadata": {},
   "outputs": [
    {
     "name": "stdout",
     "output_type": "stream",
     "text": [
      "First Notebook.ipynb Python Basics.ipynb  data.csv\r\n"
     ]
    }
   ],
   "source": [
    "!ls"
   ]
  },
  {
   "cell_type": "code",
   "execution_count": 102,
   "id": "1d0ad18e",
   "metadata": {},
   "outputs": [
    {
     "data": {
      "text/html": [
       "<div>\n",
       "<style scoped>\n",
       "    .dataframe tbody tr th:only-of-type {\n",
       "        vertical-align: middle;\n",
       "    }\n",
       "\n",
       "    .dataframe tbody tr th {\n",
       "        vertical-align: top;\n",
       "    }\n",
       "\n",
       "    .dataframe thead th {\n",
       "        text-align: right;\n",
       "    }\n",
       "</style>\n",
       "<table border=\"1\" class=\"dataframe\">\n",
       "  <thead>\n",
       "    <tr style=\"text-align: right;\">\n",
       "      <th></th>\n",
       "      <th>naam</th>\n",
       "      <th>woonplaats</th>\n",
       "      <th>leeftijd</th>\n",
       "    </tr>\n",
       "  </thead>\n",
       "  <tbody>\n",
       "    <tr>\n",
       "      <th>0</th>\n",
       "      <td>Peter</td>\n",
       "      <td>Lhee</td>\n",
       "      <td>65</td>\n",
       "    </tr>\n",
       "    <tr>\n",
       "      <th>1</th>\n",
       "      <td>Roelof</td>\n",
       "      <td>Amsterdam</td>\n",
       "      <td>38</td>\n",
       "    </tr>\n",
       "    <tr>\n",
       "      <th>2</th>\n",
       "      <td>Daria</td>\n",
       "      <td>Zeist</td>\n",
       "      <td>35</td>\n",
       "    </tr>\n",
       "  </tbody>\n",
       "</table>\n",
       "</div>"
      ],
      "text/plain": [
       "     naam  woonplaats   leeftijd\n",
       "0   Peter        Lhee         65\n",
       "1  Roelof   Amsterdam         38\n",
       "2   Daria       Zeist         35"
      ]
     },
     "execution_count": 102,
     "metadata": {},
     "output_type": "execute_result"
    }
   ],
   "source": [
    "filename = 'data.csv'\n",
    "df = pd.read_csv(filename, sep = ';')\n",
    "df"
   ]
  },
  {
   "cell_type": "markdown",
   "id": "4768cd80",
   "metadata": {},
   "source": [
    "### Lambda"
   ]
  },
  {
   "cell_type": "code",
   "execution_count": 104,
   "id": "3b2a773f",
   "metadata": {},
   "outputs": [
    {
     "data": {
      "text/plain": [
       "['this', 'is', 'an', 'example', 'of', 'a', 'string']"
      ]
     },
     "execution_count": 104,
     "metadata": {},
     "output_type": "execute_result"
    }
   ],
   "source": [
    "words"
   ]
  },
  {
   "cell_type": "code",
   "execution_count": 105,
   "id": "52ad6bdb",
   "metadata": {},
   "outputs": [
    {
     "data": {
      "text/plain": [
       "['a', 'an', 'example', 'is', 'of', 'string', 'this']"
      ]
     },
     "execution_count": 105,
     "metadata": {},
     "output_type": "execute_result"
    }
   ],
   "source": [
    "sorted(words)"
   ]
  },
  {
   "cell_type": "code",
   "execution_count": 107,
   "id": "b46ca73c",
   "metadata": {},
   "outputs": [
    {
     "data": {
      "text/plain": [
       "['this', 'string', 'of', 'is', 'example', 'an', 'a']"
      ]
     },
     "execution_count": 107,
     "metadata": {},
     "output_type": "execute_result"
    }
   ],
   "source": [
    "sorted(words, reverse = True)"
   ]
  },
  {
   "cell_type": "code",
   "execution_count": 108,
   "id": "ea18c0f1",
   "metadata": {},
   "outputs": [
    {
     "data": {
      "text/plain": [
       "['a', 'is', 'an', 'of', 'this', 'string', 'example']"
      ]
     },
     "execution_count": 108,
     "metadata": {},
     "output_type": "execute_result"
    }
   ],
   "source": [
    "sorted(words, key = len)"
   ]
  },
  {
   "cell_type": "code",
   "execution_count": 112,
   "id": "906480b7",
   "metadata": {},
   "outputs": [],
   "source": [
    "def number_of_a(s):\n",
    "    return s.count('a')"
   ]
  },
  {
   "cell_type": "code",
   "execution_count": 113,
   "id": "1b3a2e81",
   "metadata": {},
   "outputs": [
    {
     "data": {
      "text/plain": [
       "5"
      ]
     },
     "execution_count": 113,
     "metadata": {},
     "output_type": "execute_result"
    }
   ],
   "source": [
    "number_of_a('abacadabra')"
   ]
  },
  {
   "cell_type": "code",
   "execution_count": 114,
   "id": "7a8ec01f",
   "metadata": {},
   "outputs": [
    {
     "data": {
      "text/plain": [
       "['this', 'is', 'of', 'string', 'an', 'example', 'a']"
      ]
     },
     "execution_count": 114,
     "metadata": {},
     "output_type": "execute_result"
    }
   ],
   "source": [
    "sorted(words, key = number_of_a)"
   ]
  },
  {
   "cell_type": "code",
   "execution_count": 123,
   "id": "1e332157",
   "metadata": {},
   "outputs": [
    {
     "data": {
      "text/plain": [
       "['this', 'is', 'an', 'of', 'a', 'string', 'school', 'example']"
      ]
     },
     "execution_count": 123,
     "metadata": {},
     "output_type": "execute_result"
    }
   ],
   "source": [
    "sorted(words, key = lambda s: sum(s.count(vowel) for vowel in 'aeiouy'))"
   ]
  },
  {
   "cell_type": "markdown",
   "id": "49176ac0",
   "metadata": {},
   "source": [
    "## Reading from a file"
   ]
  },
  {
   "cell_type": "code",
   "execution_count": 125,
   "id": "c910a742",
   "metadata": {},
   "outputs": [
    {
     "name": "stdout",
     "output_type": "stream",
     "text": [
      "['naam', ' woonplaats', ' leeftijd']\n",
      "['Peter', ' Lhee', ' 65']\n",
      "['Roelof', ' Amsterdam', ' 38']\n",
      "['Daria', ' Zeist', ' 35 ']\n"
     ]
    }
   ],
   "source": [
    "filename = 'data.csv'\n",
    "with open(filename, 'r') as f:\n",
    "    for line in f:\n",
    "        line = line.rstrip('\\n')\n",
    "        fields = line.split(';')\n",
    "        print(fields)"
   ]
  },
  {
   "cell_type": "code",
   "execution_count": 126,
   "id": "364f1a09",
   "metadata": {},
   "outputs": [
    {
     "name": "stdout",
     "output_type": "stream",
     "text": [
      "['naam', ' woonplaats', ' leeftijd']\n",
      "['Peter', ' Lhee', ' 65']\n",
      "['Roelof', ' Amsterdam', ' 38']\n",
      "['Daria', ' Zeist', ' 35 ']\n"
     ]
    }
   ],
   "source": [
    "filename = 'data.csv'\n",
    "f = open(filename, 'r')\n",
    "for line in f:\n",
    "    line = line.rstrip('\\n')\n",
    "    fields = line.split(';')\n",
    "    print(fields)\n",
    "f.close()"
   ]
  },
  {
   "cell_type": "markdown",
   "id": "9ef0ef96",
   "metadata": {},
   "source": [
    "## Lists"
   ]
  },
  {
   "cell_type": "code",
   "execution_count": 127,
   "id": "9fc28012",
   "metadata": {},
   "outputs": [],
   "source": [
    "getallen = [1,2,3,7,4,6]"
   ]
  },
  {
   "cell_type": "code",
   "execution_count": 132,
   "id": "1f761d0d",
   "metadata": {},
   "outputs": [
    {
     "data": {
      "text/plain": [
       "4"
      ]
     },
     "execution_count": 132,
     "metadata": {},
     "output_type": "execute_result"
    }
   ],
   "source": [
    "getallen[-2]"
   ]
  },
  {
   "cell_type": "code",
   "execution_count": 133,
   "id": "0e929518",
   "metadata": {},
   "outputs": [
    {
     "data": {
      "text/plain": [
       "[3, 7, 4]"
      ]
     },
     "execution_count": 133,
     "metadata": {},
     "output_type": "execute_result"
    }
   ],
   "source": [
    "getallen[2:5]"
   ]
  },
  {
   "cell_type": "code",
   "execution_count": 134,
   "id": "11b1625e",
   "metadata": {},
   "outputs": [
    {
     "data": {
      "text/plain": [
       "[1, 2, 3, 7, 4, 6, 99]"
      ]
     },
     "execution_count": 134,
     "metadata": {},
     "output_type": "execute_result"
    }
   ],
   "source": [
    "getallen.append(99)\n",
    "getallen"
   ]
  },
  {
   "cell_type": "code",
   "execution_count": 136,
   "id": "bc0d37af",
   "metadata": {},
   "outputs": [
    {
     "data": {
      "text/plain": [
       "[77, 77, 1, 2, 3, 7, 4, 6, 99]"
      ]
     },
     "execution_count": 136,
     "metadata": {},
     "output_type": "execute_result"
    }
   ],
   "source": [
    "getallen.insert(0, 77)\n",
    "getallen"
   ]
  },
  {
   "cell_type": "markdown",
   "id": "39fd4a57",
   "metadata": {},
   "source": [
    "## List comprehension"
   ]
  },
  {
   "cell_type": "code",
   "execution_count": 137,
   "id": "1b08086c",
   "metadata": {},
   "outputs": [],
   "source": [
    "getallen = [7,5,8,3,7]"
   ]
  },
  {
   "cell_type": "code",
   "execution_count": 138,
   "id": "4c19fff3",
   "metadata": {},
   "outputs": [
    {
     "data": {
      "text/plain": [
       "[49, 25, 64, 9, 49]"
      ]
     },
     "execution_count": 138,
     "metadata": {},
     "output_type": "execute_result"
    }
   ],
   "source": [
    "[getal ** 2 for getal in getallen]"
   ]
  },
  {
   "cell_type": "code",
   "execution_count": 142,
   "id": "b0f9e6b3",
   "metadata": {},
   "outputs": [
    {
     "data": {
      "text/plain": [
       "[0, 16, 64, 144, 256]"
      ]
     },
     "execution_count": 142,
     "metadata": {},
     "output_type": "execute_result"
    }
   ],
   "source": [
    "[getal ** 2 for getal in range(20) if getal % 4 == 0]"
   ]
  },
  {
   "cell_type": "markdown",
   "id": "ee014723",
   "metadata": {},
   "source": [
    "## Tuple"
   ]
  },
  {
   "cell_type": "code",
   "execution_count": 143,
   "id": "7571264d",
   "metadata": {},
   "outputs": [
    {
     "data": {
      "text/plain": [
       "(7, 5, 8, 3, 7)"
      ]
     },
     "execution_count": 143,
     "metadata": {},
     "output_type": "execute_result"
    }
   ],
   "source": [
    "t = tuple(getallen)\n",
    "t"
   ]
  },
  {
   "cell_type": "code",
   "execution_count": 144,
   "id": "7e077ca1",
   "metadata": {},
   "outputs": [
    {
     "ename": "AttributeError",
     "evalue": "'tuple' object has no attribute 'append'",
     "output_type": "error",
     "traceback": [
      "\u001b[0;31m---------------------------------------------------------------------------\u001b[0m",
      "\u001b[0;31mAttributeError\u001b[0m                            Traceback (most recent call last)",
      "\u001b[0;32m/var/folders/03/yj771kx92fj0g_3xbr70x6980000gn/T/ipykernel_70837/4206281609.py\u001b[0m in \u001b[0;36m<module>\u001b[0;34m\u001b[0m\n\u001b[0;32m----> 1\u001b[0;31m \u001b[0mt\u001b[0m\u001b[0;34m.\u001b[0m\u001b[0mappend\u001b[0m\u001b[0;34m(\u001b[0m\u001b[0;36m99\u001b[0m\u001b[0;34m)\u001b[0m\u001b[0;34m\u001b[0m\u001b[0;34m\u001b[0m\u001b[0m\n\u001b[0m",
      "\u001b[0;31mAttributeError\u001b[0m: 'tuple' object has no attribute 'append'"
     ]
    }
   ],
   "source": [
    "t.append(99)"
   ]
  },
  {
   "cell_type": "markdown",
   "id": "30e0cc22",
   "metadata": {},
   "source": [
    "## Dict"
   ]
  },
  {
   "cell_type": "code",
   "execution_count": 145,
   "id": "f01569af",
   "metadata": {},
   "outputs": [
    {
     "data": {
      "text/plain": [
       "{'Amsterdam': '020', 'Zeist': '030', 'Utrecht': '030'}"
      ]
     },
     "execution_count": 145,
     "metadata": {},
     "output_type": "execute_result"
    }
   ],
   "source": [
    "d = {'Amsterdam':'020', 'Zeist':'030', 'Utrecht':'030'}\n",
    "d"
   ]
  },
  {
   "cell_type": "code",
   "execution_count": 146,
   "id": "72d67488",
   "metadata": {},
   "outputs": [
    {
     "data": {
      "text/plain": [
       "'020'"
      ]
     },
     "execution_count": 146,
     "metadata": {},
     "output_type": "execute_result"
    }
   ],
   "source": [
    "d['Amsterdam']"
   ]
  },
  {
   "cell_type": "code",
   "execution_count": 147,
   "id": "af43eb21",
   "metadata": {},
   "outputs": [
    {
     "name": "stdout",
     "output_type": "stream",
     "text": [
      "Zeist\n",
      "Utrecht\n"
     ]
    }
   ],
   "source": [
    "value_to_find = '030'\n",
    "for k, v in d.items():\n",
    "    if v == value_to_find:\n",
    "        print(k)"
   ]
  },
  {
   "cell_type": "markdown",
   "id": "caf34166",
   "metadata": {},
   "source": [
    "## Statistics"
   ]
  },
  {
   "cell_type": "code",
   "execution_count": 152,
   "id": "add8adbe",
   "metadata": {},
   "outputs": [],
   "source": [
    "import statistics\n",
    "import random"
   ]
  },
  {
   "cell_type": "code",
   "execution_count": 154,
   "id": "d1edbc2f",
   "metadata": {},
   "outputs": [],
   "source": [
    "getallen = [random.randint(1, 99) for _ in range(30)]"
   ]
  },
  {
   "cell_type": "code",
   "execution_count": 155,
   "id": "0f1effd1",
   "metadata": {},
   "outputs": [
    {
     "data": {
      "text/plain": [
       "[26.0, 45.5, 67.5]"
      ]
     },
     "execution_count": 155,
     "metadata": {},
     "output_type": "execute_result"
    }
   ],
   "source": [
    "statistics.quantiles(getallen, n = 4)"
   ]
  },
  {
   "cell_type": "code",
   "execution_count": 156,
   "id": "6cee1c88",
   "metadata": {},
   "outputs": [
    {
     "data": {
      "text/plain": [
       "45.5"
      ]
     },
     "execution_count": 156,
     "metadata": {},
     "output_type": "execute_result"
    }
   ],
   "source": [
    "statistics.median(getallen)"
   ]
  },
  {
   "cell_type": "code",
   "execution_count": 159,
   "id": "9a3561a3",
   "metadata": {},
   "outputs": [
    {
     "name": "stdout",
     "output_type": "stream",
     "text": [
      "1 7 15 15 21 24 26 26 26 32 35 36 38 40 44 47 50 55 56 60 63 65 67 69 71 73 81 86 87 99\n"
     ]
    }
   ],
   "source": [
    "print(*sorted(getallen))"
   ]
  },
  {
   "cell_type": "code",
   "execution_count": null,
   "id": "4dd4a649",
   "metadata": {},
   "outputs": [],
   "source": []
  }
 ],
 "metadata": {
  "kernelspec": {
   "display_name": "Python 3.9.5 64-bit ('base': conda)",
   "language": "python",
   "name": "python395jvsc74a57bd0e7cb1b9ae4d417fedf7f40a8eec98f7cfbd359e096bd857395a915f4609834ce"
  },
  "language_info": {
   "codemirror_mode": {
    "name": "ipython",
    "version": 3
   },
   "file_extension": ".py",
   "mimetype": "text/x-python",
   "name": "python",
   "nbconvert_exporter": "python",
   "pygments_lexer": "ipython3",
   "version": "3.9.9"
  }
 },
 "nbformat": 4,
 "nbformat_minor": 5
}
