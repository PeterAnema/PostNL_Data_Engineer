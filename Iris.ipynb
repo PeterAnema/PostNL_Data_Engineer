{
 "cells": [
  {
   "cell_type": "markdown",
   "id": "bdc57375",
   "metadata": {},
   "source": [
    "# Machine Learning with Iris dataset"
   ]
  },
  {
   "cell_type": "code",
   "execution_count": 1,
   "id": "bb4c568a",
   "metadata": {},
   "outputs": [],
   "source": [
    "import numpy as np\n",
    "import pandas as pd\n",
    "import matplotlib.pyplot as plt\n",
    "import seaborn as sns"
   ]
  },
  {
   "cell_type": "markdown",
   "id": "1256158d",
   "metadata": {},
   "source": [
    "## Load dataset"
   ]
  },
  {
   "cell_type": "code",
   "execution_count": 2,
   "id": "28ce1b61",
   "metadata": {},
   "outputs": [],
   "source": [
    "filename = 'iris.csv'\n",
    "df = pd.read_csv(filename)"
   ]
  },
  {
   "cell_type": "code",
   "execution_count": 3,
   "id": "103d862d",
   "metadata": {},
   "outputs": [
    {
     "data": {
      "text/html": [
       "<div>\n",
       "<style scoped>\n",
       "    .dataframe tbody tr th:only-of-type {\n",
       "        vertical-align: middle;\n",
       "    }\n",
       "\n",
       "    .dataframe tbody tr th {\n",
       "        vertical-align: top;\n",
       "    }\n",
       "\n",
       "    .dataframe thead th {\n",
       "        text-align: right;\n",
       "    }\n",
       "</style>\n",
       "<table border=\"1\" class=\"dataframe\">\n",
       "  <thead>\n",
       "    <tr style=\"text-align: right;\">\n",
       "      <th></th>\n",
       "      <th>sepal_length</th>\n",
       "      <th>sepal_width</th>\n",
       "      <th>petal_length</th>\n",
       "      <th>petal_width</th>\n",
       "      <th>species</th>\n",
       "    </tr>\n",
       "  </thead>\n",
       "  <tbody>\n",
       "    <tr>\n",
       "      <th>0</th>\n",
       "      <td>5.1</td>\n",
       "      <td>3.5</td>\n",
       "      <td>1.4</td>\n",
       "      <td>0.2</td>\n",
       "      <td>setosa</td>\n",
       "    </tr>\n",
       "    <tr>\n",
       "      <th>1</th>\n",
       "      <td>4.9</td>\n",
       "      <td>3.0</td>\n",
       "      <td>1.4</td>\n",
       "      <td>0.2</td>\n",
       "      <td>setosa</td>\n",
       "    </tr>\n",
       "    <tr>\n",
       "      <th>2</th>\n",
       "      <td>4.7</td>\n",
       "      <td>3.2</td>\n",
       "      <td>1.3</td>\n",
       "      <td>0.2</td>\n",
       "      <td>setosa</td>\n",
       "    </tr>\n",
       "    <tr>\n",
       "      <th>3</th>\n",
       "      <td>4.6</td>\n",
       "      <td>3.1</td>\n",
       "      <td>1.5</td>\n",
       "      <td>0.2</td>\n",
       "      <td>setosa</td>\n",
       "    </tr>\n",
       "    <tr>\n",
       "      <th>4</th>\n",
       "      <td>5.0</td>\n",
       "      <td>3.6</td>\n",
       "      <td>1.4</td>\n",
       "      <td>0.2</td>\n",
       "      <td>setosa</td>\n",
       "    </tr>\n",
       "    <tr>\n",
       "      <th>...</th>\n",
       "      <td>...</td>\n",
       "      <td>...</td>\n",
       "      <td>...</td>\n",
       "      <td>...</td>\n",
       "      <td>...</td>\n",
       "    </tr>\n",
       "    <tr>\n",
       "      <th>145</th>\n",
       "      <td>6.7</td>\n",
       "      <td>3.0</td>\n",
       "      <td>5.2</td>\n",
       "      <td>2.3</td>\n",
       "      <td>virginica</td>\n",
       "    </tr>\n",
       "    <tr>\n",
       "      <th>146</th>\n",
       "      <td>6.3</td>\n",
       "      <td>2.5</td>\n",
       "      <td>5.0</td>\n",
       "      <td>1.9</td>\n",
       "      <td>virginica</td>\n",
       "    </tr>\n",
       "    <tr>\n",
       "      <th>147</th>\n",
       "      <td>6.5</td>\n",
       "      <td>3.0</td>\n",
       "      <td>5.2</td>\n",
       "      <td>2.0</td>\n",
       "      <td>virginica</td>\n",
       "    </tr>\n",
       "    <tr>\n",
       "      <th>148</th>\n",
       "      <td>6.2</td>\n",
       "      <td>3.4</td>\n",
       "      <td>5.4</td>\n",
       "      <td>2.3</td>\n",
       "      <td>virginica</td>\n",
       "    </tr>\n",
       "    <tr>\n",
       "      <th>149</th>\n",
       "      <td>5.9</td>\n",
       "      <td>3.0</td>\n",
       "      <td>5.1</td>\n",
       "      <td>1.8</td>\n",
       "      <td>virginica</td>\n",
       "    </tr>\n",
       "  </tbody>\n",
       "</table>\n",
       "<p>150 rows × 5 columns</p>\n",
       "</div>"
      ],
      "text/plain": [
       "     sepal_length  sepal_width  petal_length  petal_width    species\n",
       "0             5.1          3.5           1.4          0.2     setosa\n",
       "1             4.9          3.0           1.4          0.2     setosa\n",
       "2             4.7          3.2           1.3          0.2     setosa\n",
       "3             4.6          3.1           1.5          0.2     setosa\n",
       "4             5.0          3.6           1.4          0.2     setosa\n",
       "..            ...          ...           ...          ...        ...\n",
       "145           6.7          3.0           5.2          2.3  virginica\n",
       "146           6.3          2.5           5.0          1.9  virginica\n",
       "147           6.5          3.0           5.2          2.0  virginica\n",
       "148           6.2          3.4           5.4          2.3  virginica\n",
       "149           5.9          3.0           5.1          1.8  virginica\n",
       "\n",
       "[150 rows x 5 columns]"
      ]
     },
     "execution_count": 3,
     "metadata": {},
     "output_type": "execute_result"
    }
   ],
   "source": [
    "df"
   ]
  },
  {
   "cell_type": "code",
   "execution_count": 4,
   "id": "02203ae0",
   "metadata": {},
   "outputs": [],
   "source": [
    "df['species'] = df['species'].astype('category')"
   ]
  },
  {
   "cell_type": "code",
   "execution_count": 5,
   "id": "d100341f",
   "metadata": {},
   "outputs": [
    {
     "data": {
      "text/plain": [
       "sepal_length     float64\n",
       "sepal_width      float64\n",
       "petal_length     float64\n",
       "petal_width      float64\n",
       "species         category\n",
       "dtype: object"
      ]
     },
     "execution_count": 5,
     "metadata": {},
     "output_type": "execute_result"
    }
   ],
   "source": [
    "df.dtypes"
   ]
  },
  {
   "cell_type": "code",
   "execution_count": 6,
   "id": "0988e2d8",
   "metadata": {},
   "outputs": [
    {
     "data": {
      "text/plain": [
       "['setosa', 'versicolor', 'virginica']"
      ]
     },
     "execution_count": 6,
     "metadata": {},
     "output_type": "execute_result"
    }
   ],
   "source": [
    "list(df['species'].unique())"
   ]
  },
  {
   "cell_type": "code",
   "execution_count": 7,
   "id": "18bd1f82",
   "metadata": {},
   "outputs": [
    {
     "name": "stdout",
     "output_type": "stream",
     "text": [
      "<class 'pandas.core.frame.DataFrame'>\n",
      "RangeIndex: 150 entries, 0 to 149\n",
      "Data columns (total 5 columns):\n",
      " #   Column        Non-Null Count  Dtype   \n",
      "---  ------        --------------  -----   \n",
      " 0   sepal_length  150 non-null    float64 \n",
      " 1   sepal_width   150 non-null    float64 \n",
      " 2   petal_length  150 non-null    float64 \n",
      " 3   petal_width   150 non-null    float64 \n",
      " 4   species       150 non-null    category\n",
      "dtypes: category(1), float64(4)\n",
      "memory usage: 5.1 KB\n"
     ]
    }
   ],
   "source": [
    "df.info()"
   ]
  },
  {
   "cell_type": "markdown",
   "id": "d00a0ec9",
   "metadata": {},
   "source": [
    "## Split in training en test datasets"
   ]
  },
  {
   "cell_type": "code",
   "execution_count": 8,
   "id": "474f6e11",
   "metadata": {},
   "outputs": [],
   "source": [
    "from sklearn.model_selection import train_test_split\n",
    "\n",
    "np.random.seed(1234)"
   ]
  },
  {
   "cell_type": "code",
   "execution_count": 9,
   "id": "b235cb88",
   "metadata": {},
   "outputs": [],
   "source": [
    "df_train, df_test = train_test_split(df, test_size = 0.3)\n",
    "df_test = df_test.copy()"
   ]
  },
  {
   "cell_type": "code",
   "execution_count": 10,
   "id": "7bc1a80b",
   "metadata": {},
   "outputs": [
    {
     "name": "stdout",
     "output_type": "stream",
     "text": [
      "df_train (105, 5)\n",
      "df_test (45, 5)\n"
     ]
    }
   ],
   "source": [
    "print('df_train', df_train.shape)\n",
    "print('df_test', df_test.shape)"
   ]
  },
  {
   "cell_type": "markdown",
   "id": "c2727ab6",
   "metadata": {},
   "source": [
    "## Identify features and target"
   ]
  },
  {
   "cell_type": "code",
   "execution_count": 11,
   "id": "cce9f6f2",
   "metadata": {},
   "outputs": [],
   "source": [
    "feature_names = list(df.columns[:-1])\n",
    "target_name = df.columns[-1]"
   ]
  },
  {
   "cell_type": "code",
   "execution_count": 12,
   "id": "0e8b6e2f",
   "metadata": {},
   "outputs": [
    {
     "name": "stdout",
     "output_type": "stream",
     "text": [
      "features: ['sepal_length', 'sepal_width', 'petal_length', 'petal_width']\n",
      "target: species\n"
     ]
    }
   ],
   "source": [
    "print('features:', feature_names)\n",
    "print('target:', target_name)"
   ]
  },
  {
   "cell_type": "code",
   "execution_count": 13,
   "id": "7ab8fc8b",
   "metadata": {},
   "outputs": [],
   "source": [
    "df_train_features = df_train[feature_names]\n",
    "df_train_target = df_train[target_name]\n",
    "df_test_features = df_test[feature_names]\n",
    "df_test_target = df_test[target_name]"
   ]
  },
  {
   "cell_type": "code",
   "execution_count": 14,
   "id": "f2921006",
   "metadata": {},
   "outputs": [
    {
     "name": "stdout",
     "output_type": "stream",
     "text": [
      "df_train_features (105, 4)\n",
      "df_train_target (105,)\n",
      "df_test_features (45, 4)\n",
      "df_test_target (45,)\n"
     ]
    }
   ],
   "source": [
    "print('df_train_features', df_train_features.shape)\n",
    "print('df_train_target', df_train_target.shape)\n",
    "print('df_test_features', df_test_features.shape)\n",
    "print('df_test_target', df_test_target.shape)"
   ]
  },
  {
   "cell_type": "markdown",
   "id": "c49faa7d",
   "metadata": {},
   "source": [
    "## Scale the numeric features"
   ]
  },
  {
   "cell_type": "code",
   "execution_count": 15,
   "id": "b314d4c5",
   "metadata": {},
   "outputs": [],
   "source": [
    "from sklearn.preprocessing import StandardScaler, MinMaxScaler"
   ]
  },
  {
   "cell_type": "code",
   "execution_count": 16,
   "id": "2b709d81",
   "metadata": {},
   "outputs": [],
   "source": [
    "scaler = MinMaxScaler()\n",
    "\n",
    "scaler.fit(df_train_features)\n",
    "\n",
    "train_features_scaled = scaler.transform(df_train_features)\n",
    "test_features_scaled = scaler.transform(df_test_features)"
   ]
  },
  {
   "cell_type": "code",
   "execution_count": 17,
   "id": "3a483ff0",
   "metadata": {},
   "outputs": [
    {
     "name": "stdout",
     "output_type": "stream",
     "text": [
      "mean 0.4530560117\n",
      "std 0.2636131452596513\n",
      "minimum 0.0\n",
      "maximum 1.0\n"
     ]
    }
   ],
   "source": [
    "print('mean', round(train_features_scaled.mean(), 10))\n",
    "print('std', train_features_scaled.std())\n",
    "print('minimum', round(train_features_scaled.min(), 10))\n",
    "print('maximum', round(train_features_scaled.max(), 10))\n"
   ]
  },
  {
   "cell_type": "markdown",
   "id": "0399ae22",
   "metadata": {},
   "source": [
    "### do it yourself"
   ]
  },
  {
   "cell_type": "markdown",
   "id": "e6646010",
   "metadata": {},
   "source": [
    "#### Min Max Scaler"
   ]
  },
  {
   "cell_type": "code",
   "execution_count": 18,
   "id": "a08f8374",
   "metadata": {},
   "outputs": [],
   "source": [
    "minimum = df_train_features.min()\n",
    "maximum = df_train_features.max()\n",
    "\n",
    "train_features_scaled = (df_train_features - minimum) / (maximum - minimum)\n",
    "test_features_scaled = (df_test_features - minimum) / (maximum - minimum)"
   ]
  },
  {
   "cell_type": "markdown",
   "id": "294ebcea",
   "metadata": {},
   "source": [
    "#### Standard Scaler"
   ]
  },
  {
   "cell_type": "code",
   "execution_count": 19,
   "id": "b2970726",
   "metadata": {},
   "outputs": [],
   "source": [
    "mean = df_train_features.mean()\n",
    "std = df_train_features.std()\n",
    "\n",
    "train_features_scaled = (df_train_features - mean) / std\n",
    "test_features_scaled = (df_test_features - mean) / std"
   ]
  },
  {
   "cell_type": "markdown",
   "id": "aa3663dd",
   "metadata": {},
   "source": [
    "## k-Nearest Neighbor"
   ]
  },
  {
   "cell_type": "code",
   "execution_count": 20,
   "id": "9661a848",
   "metadata": {},
   "outputs": [],
   "source": [
    "from sklearn.neighbors import KNeighborsClassifier"
   ]
  },
  {
   "cell_type": "code",
   "execution_count": 21,
   "id": "fec896e7",
   "metadata": {},
   "outputs": [
    {
     "data": {
      "text/plain": [
       "KNeighborsClassifier(n_neighbors=3)"
      ]
     },
     "execution_count": 21,
     "metadata": {},
     "output_type": "execute_result"
    }
   ],
   "source": [
    "knn_classifier = KNeighborsClassifier(n_neighbors = 3)\n",
    "\n",
    "knn_classifier.fit(df_train_features, df_train_target)"
   ]
  },
  {
   "cell_type": "code",
   "execution_count": 22,
   "id": "99cc9e20",
   "metadata": {},
   "outputs": [],
   "source": [
    "df_test['3NN_predicted'] = knn_classifier.predict(df_test_features)\n",
    "df_test['3NN_correct'] = df_test['3NN_predicted'] == df_test[target_name]"
   ]
  },
  {
   "cell_type": "code",
   "execution_count": 23,
   "id": "1aafef55",
   "metadata": {},
   "outputs": [
    {
     "data": {
      "text/plain": [
       "True     44\n",
       "False     1\n",
       "Name: 3NN_correct, dtype: int64"
      ]
     },
     "execution_count": 23,
     "metadata": {},
     "output_type": "execute_result"
    }
   ],
   "source": [
    "df_test['3NN_correct'].value_counts()"
   ]
  },
  {
   "cell_type": "code",
   "execution_count": 24,
   "id": "79dafcfe",
   "metadata": {},
   "outputs": [
    {
     "name": "stdout",
     "output_type": "stream",
     "text": [
      "accuracy 98%\n"
     ]
    }
   ],
   "source": [
    "accuracy = df_test['3NN_correct'].sum() / df_test['3NN_correct'].count()\n",
    "print(f'accuracy {round(accuracy * 100)}%')"
   ]
  },
  {
   "cell_type": "markdown",
   "id": "9225e2d7",
   "metadata": {},
   "source": [
    "## Naive Bayes"
   ]
  },
  {
   "cell_type": "code",
   "execution_count": 25,
   "id": "50667ba6",
   "metadata": {},
   "outputs": [],
   "source": [
    "from sklearn.naive_bayes import GaussianNB"
   ]
  },
  {
   "cell_type": "code",
   "execution_count": 26,
   "id": "9c4d553c",
   "metadata": {},
   "outputs": [
    {
     "data": {
      "text/plain": [
       "GaussianNB()"
      ]
     },
     "execution_count": 26,
     "metadata": {},
     "output_type": "execute_result"
    }
   ],
   "source": [
    "nb_classifier = GaussianNB()\n",
    "\n",
    "nb_classifier.fit(df_train_features, df_train_target) "
   ]
  },
  {
   "cell_type": "code",
   "execution_count": 27,
   "id": "4c16da10",
   "metadata": {},
   "outputs": [],
   "source": [
    "df_test['NB_predicted']= nb_classifier.predict(df_test_features)"
   ]
  },
  {
   "cell_type": "code",
   "execution_count": 28,
   "id": "2b6d05fa",
   "metadata": {},
   "outputs": [],
   "source": [
    "df_test['NB_correct'] = df_test['NB_predicted'] == df_test[target_name]"
   ]
  },
  {
   "cell_type": "code",
   "execution_count": 29,
   "id": "fca1bb83",
   "metadata": {},
   "outputs": [
    {
     "name": "stdout",
     "output_type": "stream",
     "text": [
      "accuracy 98%\n"
     ]
    }
   ],
   "source": [
    "accuracy = df_test['3NN_correct'].sum() / df_test['3NN_correct'].count()\n",
    "print(f'accuracy {round(accuracy * 100)}%')"
   ]
  },
  {
   "cell_type": "markdown",
   "id": "39604634",
   "metadata": {},
   "source": [
    "## Decision Tree"
   ]
  },
  {
   "cell_type": "code",
   "execution_count": 30,
   "id": "219463e8",
   "metadata": {},
   "outputs": [],
   "source": [
    "from sklearn.tree import DecisionTreeClassifier"
   ]
  },
  {
   "cell_type": "code",
   "execution_count": 31,
   "id": "b837d9b4",
   "metadata": {},
   "outputs": [
    {
     "data": {
      "text/plain": [
       "DecisionTreeClassifier()"
      ]
     },
     "execution_count": 31,
     "metadata": {},
     "output_type": "execute_result"
    }
   ],
   "source": [
    "dt_classifier = DecisionTreeClassifier()\n",
    "\n",
    "dt_classifier.fit(df_train_features, df_train_target)"
   ]
  },
  {
   "cell_type": "code",
   "execution_count": 32,
   "id": "83930144",
   "metadata": {},
   "outputs": [],
   "source": [
    "df_test['DT_predicted'] = dt_classifier.predict(df_test_features)"
   ]
  },
  {
   "cell_type": "code",
   "execution_count": 33,
   "id": "f659ef06",
   "metadata": {},
   "outputs": [],
   "source": [
    "df_test['DT_correct'] = df_test['DT_predicted'] == df_test[target_name]"
   ]
  },
  {
   "cell_type": "code",
   "execution_count": 34,
   "id": "577e0378",
   "metadata": {},
   "outputs": [
    {
     "name": "stdout",
     "output_type": "stream",
     "text": [
      "accuracy 98%\n"
     ]
    }
   ],
   "source": [
    "accuracy = df_test['DT_correct'].sum() / df_test['DT_correct'].count()\n",
    "print(f'accuracy {round(accuracy * 100)}%')"
   ]
  },
  {
   "cell_type": "code",
   "execution_count": 35,
   "id": "e778aa57",
   "metadata": {},
   "outputs": [],
   "source": [
    "from sklearn import tree"
   ]
  },
  {
   "cell_type": "code",
   "execution_count": 36,
   "id": "6713788c",
   "metadata": {},
   "outputs": [
    {
     "data": {
      "image/png": "[encoded data removed]",
      "text/plain": [
       "<Figure size 1080x1080 with 1 Axes>"
      ]
     },
     "metadata": {
      "needs_background": "light"
     },
     "output_type": "display_data"
    }
   ],
   "source": [
    "plt.figure(figsize = (15,15))\n",
    "\n",
    "tree.plot_tree(dt_classifier, \n",
    "               feature_names = feature_names,\n",
    "               class_names = target_name,\n",
    "               filled = True,\n",
    "               rounded = True, \n",
    "               impurity = False)\n",
    "\n",
    "plt.show()"
   ]
  },
  {
   "cell_type": "code",
   "execution_count": 37,
   "id": "cd52ef0d",
   "metadata": {},
   "outputs": [
    {
     "name": "stdout",
     "output_type": "stream",
     "text": [
      "Feature Importances Decision Tree [0.00715649 0.03339695 0.56020346 0.3992431 ]\n"
     ]
    }
   ],
   "source": [
    "print('Feature Importances Decision Tree', dt_classifier.feature_importances_)"
   ]
  },
  {
   "cell_type": "markdown",
   "id": "038a72f8",
   "metadata": {},
   "source": [
    "## Random Forest"
   ]
  },
  {
   "cell_type": "code",
   "execution_count": 38,
   "id": "0d746ebc",
   "metadata": {},
   "outputs": [],
   "source": [
    "from sklearn.ensemble import RandomForestClassifier"
   ]
  },
  {
   "cell_type": "code",
   "execution_count": 39,
   "id": "d0a7ca76",
   "metadata": {},
   "outputs": [
    {
     "data": {
      "text/plain": [
       "RandomForestClassifier(n_estimators=200)"
      ]
     },
     "execution_count": 39,
     "metadata": {},
     "output_type": "execute_result"
    }
   ],
   "source": [
    "rf_classifier = RandomForestClassifier(n_estimators = 200)\n",
    "\n",
    "rf_classifier.fit(df_train_features, df_train_target)"
   ]
  },
  {
   "cell_type": "code",
   "execution_count": 40,
   "id": "26f2368c",
   "metadata": {},
   "outputs": [],
   "source": [
    "df_test['RF_predicted'] = rf_classifier.predict(df_test_features)"
   ]
  },
  {
   "cell_type": "code",
   "execution_count": 41,
   "id": "1742be9c",
   "metadata": {},
   "outputs": [],
   "source": [
    "df_test['RF_correct'] = df_test['RF_predicted'] == df_test[target_name]"
   ]
  },
  {
   "cell_type": "code",
   "execution_count": 42,
   "id": "dd1afc0f",
   "metadata": {},
   "outputs": [
    {
     "name": "stdout",
     "output_type": "stream",
     "text": [
      "accuracy 98%\n"
     ]
    }
   ],
   "source": [
    "accuracy = df_test['DT_correct'].sum() / df_test['DT_correct'].count()\n",
    "print(f'accuracy {round(accuracy * 100)}%')"
   ]
  },
  {
   "cell_type": "code",
   "execution_count": 43,
   "id": "2aacf751",
   "metadata": {},
   "outputs": [
    {
     "name": "stdout",
     "output_type": "stream",
     "text": [
      "Feature Importances Random Forest [0.08953151 0.02523057 0.46128311 0.42395481]\n"
     ]
    }
   ],
   "source": [
    "print('Feature Importances Random Forest', rf_classifier.feature_importances_)"
   ]
  },
  {
   "cell_type": "code",
   "execution_count": 44,
   "id": "f4e4cd50",
   "metadata": {},
   "outputs": [
    {
     "data": {
      "text/html": [
       "<div>\n",
       "<style scoped>\n",
       "    .dataframe tbody tr th:only-of-type {\n",
       "        vertical-align: middle;\n",
       "    }\n",
       "\n",
       "    .dataframe tbody tr th {\n",
       "        vertical-align: top;\n",
       "    }\n",
       "\n",
       "    .dataframe thead th {\n",
       "        text-align: right;\n",
       "    }\n",
       "</style>\n",
       "<table border=\"1\" class=\"dataframe\">\n",
       "  <thead>\n",
       "    <tr style=\"text-align: right;\">\n",
       "      <th></th>\n",
       "      <th>sepal_length</th>\n",
       "      <th>sepal_width</th>\n",
       "      <th>petal_length</th>\n",
       "      <th>petal_width</th>\n",
       "      <th>species</th>\n",
       "      <th>3NN_predicted</th>\n",
       "      <th>3NN_correct</th>\n",
       "      <th>NB_predicted</th>\n",
       "      <th>NB_correct</th>\n",
       "      <th>DT_predicted</th>\n",
       "      <th>DT_correct</th>\n",
       "      <th>RF_predicted</th>\n",
       "      <th>RF_correct</th>\n",
       "    </tr>\n",
       "  </thead>\n",
       "  <tbody>\n",
       "    <tr>\n",
       "      <th>91</th>\n",
       "      <td>6.1</td>\n",
       "      <td>3.0</td>\n",
       "      <td>4.6</td>\n",
       "      <td>1.4</td>\n",
       "      <td>versicolor</td>\n",
       "      <td>versicolor</td>\n",
       "      <td>True</td>\n",
       "      <td>versicolor</td>\n",
       "      <td>True</td>\n",
       "      <td>versicolor</td>\n",
       "      <td>True</td>\n",
       "      <td>versicolor</td>\n",
       "      <td>True</td>\n",
       "    </tr>\n",
       "    <tr>\n",
       "      <th>63</th>\n",
       "      <td>6.1</td>\n",
       "      <td>2.9</td>\n",
       "      <td>4.7</td>\n",
       "      <td>1.4</td>\n",
       "      <td>versicolor</td>\n",
       "      <td>versicolor</td>\n",
       "      <td>True</td>\n",
       "      <td>versicolor</td>\n",
       "      <td>True</td>\n",
       "      <td>versicolor</td>\n",
       "      <td>True</td>\n",
       "      <td>versicolor</td>\n",
       "      <td>True</td>\n",
       "    </tr>\n",
       "    <tr>\n",
       "      <th>103</th>\n",
       "      <td>6.3</td>\n",
       "      <td>2.9</td>\n",
       "      <td>5.6</td>\n",
       "      <td>1.8</td>\n",
       "      <td>virginica</td>\n",
       "      <td>virginica</td>\n",
       "      <td>True</td>\n",
       "      <td>virginica</td>\n",
       "      <td>True</td>\n",
       "      <td>virginica</td>\n",
       "      <td>True</td>\n",
       "      <td>virginica</td>\n",
       "      <td>True</td>\n",
       "    </tr>\n",
       "    <tr>\n",
       "      <th>6</th>\n",
       "      <td>4.6</td>\n",
       "      <td>3.4</td>\n",
       "      <td>1.4</td>\n",
       "      <td>0.3</td>\n",
       "      <td>setosa</td>\n",
       "      <td>setosa</td>\n",
       "      <td>True</td>\n",
       "      <td>setosa</td>\n",
       "      <td>True</td>\n",
       "      <td>setosa</td>\n",
       "      <td>True</td>\n",
       "      <td>setosa</td>\n",
       "      <td>True</td>\n",
       "    </tr>\n",
       "    <tr>\n",
       "      <th>59</th>\n",
       "      <td>5.2</td>\n",
       "      <td>2.7</td>\n",
       "      <td>3.9</td>\n",
       "      <td>1.4</td>\n",
       "      <td>versicolor</td>\n",
       "      <td>versicolor</td>\n",
       "      <td>True</td>\n",
       "      <td>versicolor</td>\n",
       "      <td>True</td>\n",
       "      <td>versicolor</td>\n",
       "      <td>True</td>\n",
       "      <td>versicolor</td>\n",
       "      <td>True</td>\n",
       "    </tr>\n",
       "    <tr>\n",
       "      <th>29</th>\n",
       "      <td>4.7</td>\n",
       "      <td>3.2</td>\n",
       "      <td>1.6</td>\n",
       "      <td>0.2</td>\n",
       "      <td>setosa</td>\n",
       "      <td>setosa</td>\n",
       "      <td>True</td>\n",
       "      <td>setosa</td>\n",
       "      <td>True</td>\n",
       "      <td>setosa</td>\n",
       "      <td>True</td>\n",
       "      <td>setosa</td>\n",
       "      <td>True</td>\n",
       "    </tr>\n",
       "    <tr>\n",
       "      <th>27</th>\n",
       "      <td>5.2</td>\n",
       "      <td>3.5</td>\n",
       "      <td>1.5</td>\n",
       "      <td>0.2</td>\n",
       "      <td>setosa</td>\n",
       "      <td>setosa</td>\n",
       "      <td>True</td>\n",
       "      <td>setosa</td>\n",
       "      <td>True</td>\n",
       "      <td>setosa</td>\n",
       "      <td>True</td>\n",
       "      <td>setosa</td>\n",
       "      <td>True</td>\n",
       "    </tr>\n",
       "    <tr>\n",
       "      <th>35</th>\n",
       "      <td>5.0</td>\n",
       "      <td>3.2</td>\n",
       "      <td>1.2</td>\n",
       "      <td>0.2</td>\n",
       "      <td>setosa</td>\n",
       "      <td>setosa</td>\n",
       "      <td>True</td>\n",
       "      <td>setosa</td>\n",
       "      <td>True</td>\n",
       "      <td>setosa</td>\n",
       "      <td>True</td>\n",
       "      <td>setosa</td>\n",
       "      <td>True</td>\n",
       "    </tr>\n",
       "    <tr>\n",
       "      <th>99</th>\n",
       "      <td>5.7</td>\n",
       "      <td>2.8</td>\n",
       "      <td>4.1</td>\n",
       "      <td>1.3</td>\n",
       "      <td>versicolor</td>\n",
       "      <td>versicolor</td>\n",
       "      <td>True</td>\n",
       "      <td>versicolor</td>\n",
       "      <td>True</td>\n",
       "      <td>versicolor</td>\n",
       "      <td>True</td>\n",
       "      <td>versicolor</td>\n",
       "      <td>True</td>\n",
       "    </tr>\n",
       "    <tr>\n",
       "      <th>122</th>\n",
       "      <td>7.7</td>\n",
       "      <td>2.8</td>\n",
       "      <td>6.7</td>\n",
       "      <td>2.0</td>\n",
       "      <td>virginica</td>\n",
       "      <td>virginica</td>\n",
       "      <td>True</td>\n",
       "      <td>virginica</td>\n",
       "      <td>True</td>\n",
       "      <td>virginica</td>\n",
       "      <td>True</td>\n",
       "      <td>virginica</td>\n",
       "      <td>True</td>\n",
       "    </tr>\n",
       "    <tr>\n",
       "      <th>82</th>\n",
       "      <td>5.8</td>\n",
       "      <td>2.7</td>\n",
       "      <td>3.9</td>\n",
       "      <td>1.2</td>\n",
       "      <td>versicolor</td>\n",
       "      <td>versicolor</td>\n",
       "      <td>True</td>\n",
       "      <td>versicolor</td>\n",
       "      <td>True</td>\n",
       "      <td>versicolor</td>\n",
       "      <td>True</td>\n",
       "      <td>versicolor</td>\n",
       "      <td>True</td>\n",
       "    </tr>\n",
       "    <tr>\n",
       "      <th>42</th>\n",
       "      <td>4.4</td>\n",
       "      <td>3.2</td>\n",
       "      <td>1.3</td>\n",
       "      <td>0.2</td>\n",
       "      <td>setosa</td>\n",
       "      <td>setosa</td>\n",
       "      <td>True</td>\n",
       "      <td>setosa</td>\n",
       "      <td>True</td>\n",
       "      <td>setosa</td>\n",
       "      <td>True</td>\n",
       "      <td>setosa</td>\n",
       "      <td>True</td>\n",
       "    </tr>\n",
       "    <tr>\n",
       "      <th>117</th>\n",
       "      <td>7.7</td>\n",
       "      <td>3.8</td>\n",
       "      <td>6.7</td>\n",
       "      <td>2.2</td>\n",
       "      <td>virginica</td>\n",
       "      <td>virginica</td>\n",
       "      <td>True</td>\n",
       "      <td>virginica</td>\n",
       "      <td>True</td>\n",
       "      <td>virginica</td>\n",
       "      <td>True</td>\n",
       "      <td>virginica</td>\n",
       "      <td>True</td>\n",
       "    </tr>\n",
       "    <tr>\n",
       "      <th>61</th>\n",
       "      <td>5.9</td>\n",
       "      <td>3.0</td>\n",
       "      <td>4.2</td>\n",
       "      <td>1.5</td>\n",
       "      <td>versicolor</td>\n",
       "      <td>versicolor</td>\n",
       "      <td>True</td>\n",
       "      <td>versicolor</td>\n",
       "      <td>True</td>\n",
       "      <td>versicolor</td>\n",
       "      <td>True</td>\n",
       "      <td>versicolor</td>\n",
       "      <td>True</td>\n",
       "    </tr>\n",
       "    <tr>\n",
       "      <th>43</th>\n",
       "      <td>5.0</td>\n",
       "      <td>3.5</td>\n",
       "      <td>1.6</td>\n",
       "      <td>0.6</td>\n",
       "      <td>setosa</td>\n",
       "      <td>setosa</td>\n",
       "      <td>True</td>\n",
       "      <td>setosa</td>\n",
       "      <td>True</td>\n",
       "      <td>setosa</td>\n",
       "      <td>True</td>\n",
       "      <td>setosa</td>\n",
       "      <td>True</td>\n",
       "    </tr>\n",
       "    <tr>\n",
       "      <th>79</th>\n",
       "      <td>5.7</td>\n",
       "      <td>2.6</td>\n",
       "      <td>3.5</td>\n",
       "      <td>1.0</td>\n",
       "      <td>versicolor</td>\n",
       "      <td>versicolor</td>\n",
       "      <td>True</td>\n",
       "      <td>versicolor</td>\n",
       "      <td>True</td>\n",
       "      <td>versicolor</td>\n",
       "      <td>True</td>\n",
       "      <td>versicolor</td>\n",
       "      <td>True</td>\n",
       "    </tr>\n",
       "    <tr>\n",
       "      <th>100</th>\n",
       "      <td>6.3</td>\n",
       "      <td>3.3</td>\n",
       "      <td>6.0</td>\n",
       "      <td>2.5</td>\n",
       "      <td>virginica</td>\n",
       "      <td>virginica</td>\n",
       "      <td>True</td>\n",
       "      <td>virginica</td>\n",
       "      <td>True</td>\n",
       "      <td>virginica</td>\n",
       "      <td>True</td>\n",
       "      <td>virginica</td>\n",
       "      <td>True</td>\n",
       "    </tr>\n",
       "    <tr>\n",
       "      <th>25</th>\n",
       "      <td>5.0</td>\n",
       "      <td>3.0</td>\n",
       "      <td>1.6</td>\n",
       "      <td>0.2</td>\n",
       "      <td>setosa</td>\n",
       "      <td>setosa</td>\n",
       "      <td>True</td>\n",
       "      <td>setosa</td>\n",
       "      <td>True</td>\n",
       "      <td>setosa</td>\n",
       "      <td>True</td>\n",
       "      <td>setosa</td>\n",
       "      <td>True</td>\n",
       "    </tr>\n",
       "    <tr>\n",
       "      <th>108</th>\n",
       "      <td>6.7</td>\n",
       "      <td>2.5</td>\n",
       "      <td>5.8</td>\n",
       "      <td>1.8</td>\n",
       "      <td>virginica</td>\n",
       "      <td>virginica</td>\n",
       "      <td>True</td>\n",
       "      <td>virginica</td>\n",
       "      <td>True</td>\n",
       "      <td>virginica</td>\n",
       "      <td>True</td>\n",
       "      <td>virginica</td>\n",
       "      <td>True</td>\n",
       "    </tr>\n",
       "    <tr>\n",
       "      <th>94</th>\n",
       "      <td>5.6</td>\n",
       "      <td>2.7</td>\n",
       "      <td>4.2</td>\n",
       "      <td>1.3</td>\n",
       "      <td>versicolor</td>\n",
       "      <td>versicolor</td>\n",
       "      <td>True</td>\n",
       "      <td>versicolor</td>\n",
       "      <td>True</td>\n",
       "      <td>versicolor</td>\n",
       "      <td>True</td>\n",
       "      <td>versicolor</td>\n",
       "      <td>True</td>\n",
       "    </tr>\n",
       "    <tr>\n",
       "      <th>74</th>\n",
       "      <td>6.4</td>\n",
       "      <td>2.9</td>\n",
       "      <td>4.3</td>\n",
       "      <td>1.3</td>\n",
       "      <td>versicolor</td>\n",
       "      <td>versicolor</td>\n",
       "      <td>True</td>\n",
       "      <td>versicolor</td>\n",
       "      <td>True</td>\n",
       "      <td>versicolor</td>\n",
       "      <td>True</td>\n",
       "      <td>versicolor</td>\n",
       "      <td>True</td>\n",
       "    </tr>\n",
       "    <tr>\n",
       "      <th>54</th>\n",
       "      <td>6.5</td>\n",
       "      <td>2.8</td>\n",
       "      <td>4.6</td>\n",
       "      <td>1.5</td>\n",
       "      <td>versicolor</td>\n",
       "      <td>versicolor</td>\n",
       "      <td>True</td>\n",
       "      <td>versicolor</td>\n",
       "      <td>True</td>\n",
       "      <td>versicolor</td>\n",
       "      <td>True</td>\n",
       "      <td>versicolor</td>\n",
       "      <td>True</td>\n",
       "    </tr>\n",
       "    <tr>\n",
       "      <th>51</th>\n",
       "      <td>6.4</td>\n",
       "      <td>3.2</td>\n",
       "      <td>4.5</td>\n",
       "      <td>1.5</td>\n",
       "      <td>versicolor</td>\n",
       "      <td>versicolor</td>\n",
       "      <td>True</td>\n",
       "      <td>versicolor</td>\n",
       "      <td>True</td>\n",
       "      <td>versicolor</td>\n",
       "      <td>True</td>\n",
       "      <td>versicolor</td>\n",
       "      <td>True</td>\n",
       "    </tr>\n",
       "    <tr>\n",
       "      <th>73</th>\n",
       "      <td>6.1</td>\n",
       "      <td>2.8</td>\n",
       "      <td>4.7</td>\n",
       "      <td>1.2</td>\n",
       "      <td>versicolor</td>\n",
       "      <td>versicolor</td>\n",
       "      <td>True</td>\n",
       "      <td>versicolor</td>\n",
       "      <td>True</td>\n",
       "      <td>versicolor</td>\n",
       "      <td>True</td>\n",
       "      <td>versicolor</td>\n",
       "      <td>True</td>\n",
       "    </tr>\n",
       "    <tr>\n",
       "      <th>109</th>\n",
       "      <td>7.2</td>\n",
       "      <td>3.6</td>\n",
       "      <td>6.1</td>\n",
       "      <td>2.5</td>\n",
       "      <td>virginica</td>\n",
       "      <td>virginica</td>\n",
       "      <td>True</td>\n",
       "      <td>virginica</td>\n",
       "      <td>True</td>\n",
       "      <td>virginica</td>\n",
       "      <td>True</td>\n",
       "      <td>virginica</td>\n",
       "      <td>True</td>\n",
       "    </tr>\n",
       "    <tr>\n",
       "      <th>48</th>\n",
       "      <td>5.3</td>\n",
       "      <td>3.7</td>\n",
       "      <td>1.5</td>\n",
       "      <td>0.2</td>\n",
       "      <td>setosa</td>\n",
       "      <td>setosa</td>\n",
       "      <td>True</td>\n",
       "      <td>setosa</td>\n",
       "      <td>True</td>\n",
       "      <td>setosa</td>\n",
       "      <td>True</td>\n",
       "      <td>setosa</td>\n",
       "      <td>True</td>\n",
       "    </tr>\n",
       "    <tr>\n",
       "      <th>123</th>\n",
       "      <td>6.3</td>\n",
       "      <td>2.7</td>\n",
       "      <td>4.9</td>\n",
       "      <td>1.8</td>\n",
       "      <td>virginica</td>\n",
       "      <td>virginica</td>\n",
       "      <td>True</td>\n",
       "      <td>virginica</td>\n",
       "      <td>True</td>\n",
       "      <td>virginica</td>\n",
       "      <td>True</td>\n",
       "      <td>virginica</td>\n",
       "      <td>True</td>\n",
       "    </tr>\n",
       "    <tr>\n",
       "      <th>92</th>\n",
       "      <td>5.8</td>\n",
       "      <td>2.6</td>\n",
       "      <td>4.0</td>\n",
       "      <td>1.2</td>\n",
       "      <td>versicolor</td>\n",
       "      <td>versicolor</td>\n",
       "      <td>True</td>\n",
       "      <td>versicolor</td>\n",
       "      <td>True</td>\n",
       "      <td>versicolor</td>\n",
       "      <td>True</td>\n",
       "      <td>versicolor</td>\n",
       "      <td>True</td>\n",
       "    </tr>\n",
       "    <tr>\n",
       "      <th>102</th>\n",
       "      <td>7.1</td>\n",
       "      <td>3.0</td>\n",
       "      <td>5.9</td>\n",
       "      <td>2.1</td>\n",
       "      <td>virginica</td>\n",
       "      <td>virginica</td>\n",
       "      <td>True</td>\n",
       "      <td>virginica</td>\n",
       "      <td>True</td>\n",
       "      <td>virginica</td>\n",
       "      <td>True</td>\n",
       "      <td>virginica</td>\n",
       "      <td>True</td>\n",
       "    </tr>\n",
       "    <tr>\n",
       "      <th>11</th>\n",
       "      <td>4.8</td>\n",
       "      <td>3.4</td>\n",
       "      <td>1.6</td>\n",
       "      <td>0.2</td>\n",
       "      <td>setosa</td>\n",
       "      <td>setosa</td>\n",
       "      <td>True</td>\n",
       "      <td>setosa</td>\n",
       "      <td>True</td>\n",
       "      <td>setosa</td>\n",
       "      <td>True</td>\n",
       "      <td>setosa</td>\n",
       "      <td>True</td>\n",
       "    </tr>\n",
       "    <tr>\n",
       "      <th>98</th>\n",
       "      <td>5.1</td>\n",
       "      <td>2.5</td>\n",
       "      <td>3.0</td>\n",
       "      <td>1.1</td>\n",
       "      <td>versicolor</td>\n",
       "      <td>versicolor</td>\n",
       "      <td>True</td>\n",
       "      <td>versicolor</td>\n",
       "      <td>True</td>\n",
       "      <td>versicolor</td>\n",
       "      <td>True</td>\n",
       "      <td>versicolor</td>\n",
       "      <td>True</td>\n",
       "    </tr>\n",
       "    <tr>\n",
       "      <th>126</th>\n",
       "      <td>6.2</td>\n",
       "      <td>2.8</td>\n",
       "      <td>4.8</td>\n",
       "      <td>1.8</td>\n",
       "      <td>virginica</td>\n",
       "      <td>virginica</td>\n",
       "      <td>True</td>\n",
       "      <td>virginica</td>\n",
       "      <td>True</td>\n",
       "      <td>virginica</td>\n",
       "      <td>True</td>\n",
       "      <td>virginica</td>\n",
       "      <td>True</td>\n",
       "    </tr>\n",
       "    <tr>\n",
       "      <th>40</th>\n",
       "      <td>5.0</td>\n",
       "      <td>3.5</td>\n",
       "      <td>1.3</td>\n",
       "      <td>0.3</td>\n",
       "      <td>setosa</td>\n",
       "      <td>setosa</td>\n",
       "      <td>True</td>\n",
       "      <td>setosa</td>\n",
       "      <td>True</td>\n",
       "      <td>setosa</td>\n",
       "      <td>True</td>\n",
       "      <td>setosa</td>\n",
       "      <td>True</td>\n",
       "    </tr>\n",
       "    <tr>\n",
       "      <th>133</th>\n",
       "      <td>6.3</td>\n",
       "      <td>2.8</td>\n",
       "      <td>5.1</td>\n",
       "      <td>1.5</td>\n",
       "      <td>virginica</td>\n",
       "      <td>versicolor</td>\n",
       "      <td>False</td>\n",
       "      <td>versicolor</td>\n",
       "      <td>False</td>\n",
       "      <td>virginica</td>\n",
       "      <td>True</td>\n",
       "      <td>versicolor</td>\n",
       "      <td>False</td>\n",
       "    </tr>\n",
       "    <tr>\n",
       "      <th>77</th>\n",
       "      <td>6.7</td>\n",
       "      <td>3.0</td>\n",
       "      <td>5.0</td>\n",
       "      <td>1.7</td>\n",
       "      <td>versicolor</td>\n",
       "      <td>versicolor</td>\n",
       "      <td>True</td>\n",
       "      <td>virginica</td>\n",
       "      <td>False</td>\n",
       "      <td>virginica</td>\n",
       "      <td>False</td>\n",
       "      <td>virginica</td>\n",
       "      <td>False</td>\n",
       "    </tr>\n",
       "    <tr>\n",
       "      <th>24</th>\n",
       "      <td>4.8</td>\n",
       "      <td>3.4</td>\n",
       "      <td>1.9</td>\n",
       "      <td>0.2</td>\n",
       "      <td>setosa</td>\n",
       "      <td>setosa</td>\n",
       "      <td>True</td>\n",
       "      <td>setosa</td>\n",
       "      <td>True</td>\n",
       "      <td>setosa</td>\n",
       "      <td>True</td>\n",
       "      <td>setosa</td>\n",
       "      <td>True</td>\n",
       "    </tr>\n",
       "    <tr>\n",
       "      <th>8</th>\n",
       "      <td>4.4</td>\n",
       "      <td>2.9</td>\n",
       "      <td>1.4</td>\n",
       "      <td>0.2</td>\n",
       "      <td>setosa</td>\n",
       "      <td>setosa</td>\n",
       "      <td>True</td>\n",
       "      <td>setosa</td>\n",
       "      <td>True</td>\n",
       "      <td>setosa</td>\n",
       "      <td>True</td>\n",
       "      <td>setosa</td>\n",
       "      <td>True</td>\n",
       "    </tr>\n",
       "    <tr>\n",
       "      <th>20</th>\n",
       "      <td>5.4</td>\n",
       "      <td>3.4</td>\n",
       "      <td>1.7</td>\n",
       "      <td>0.2</td>\n",
       "      <td>setosa</td>\n",
       "      <td>setosa</td>\n",
       "      <td>True</td>\n",
       "      <td>setosa</td>\n",
       "      <td>True</td>\n",
       "      <td>setosa</td>\n",
       "      <td>True</td>\n",
       "      <td>setosa</td>\n",
       "      <td>True</td>\n",
       "    </tr>\n",
       "    <tr>\n",
       "      <th>22</th>\n",
       "      <td>4.6</td>\n",
       "      <td>3.6</td>\n",
       "      <td>1.0</td>\n",
       "      <td>0.2</td>\n",
       "      <td>setosa</td>\n",
       "      <td>setosa</td>\n",
       "      <td>True</td>\n",
       "      <td>setosa</td>\n",
       "      <td>True</td>\n",
       "      <td>setosa</td>\n",
       "      <td>True</td>\n",
       "      <td>setosa</td>\n",
       "      <td>True</td>\n",
       "    </tr>\n",
       "    <tr>\n",
       "      <th>93</th>\n",
       "      <td>5.0</td>\n",
       "      <td>2.3</td>\n",
       "      <td>3.3</td>\n",
       "      <td>1.0</td>\n",
       "      <td>versicolor</td>\n",
       "      <td>versicolor</td>\n",
       "      <td>True</td>\n",
       "      <td>versicolor</td>\n",
       "      <td>True</td>\n",
       "      <td>versicolor</td>\n",
       "      <td>True</td>\n",
       "      <td>versicolor</td>\n",
       "      <td>True</td>\n",
       "    </tr>\n",
       "    <tr>\n",
       "      <th>36</th>\n",
       "      <td>5.5</td>\n",
       "      <td>3.5</td>\n",
       "      <td>1.3</td>\n",
       "      <td>0.2</td>\n",
       "      <td>setosa</td>\n",
       "      <td>setosa</td>\n",
       "      <td>True</td>\n",
       "      <td>setosa</td>\n",
       "      <td>True</td>\n",
       "      <td>setosa</td>\n",
       "      <td>True</td>\n",
       "      <td>setosa</td>\n",
       "      <td>True</td>\n",
       "    </tr>\n",
       "    <tr>\n",
       "      <th>68</th>\n",
       "      <td>6.2</td>\n",
       "      <td>2.2</td>\n",
       "      <td>4.5</td>\n",
       "      <td>1.5</td>\n",
       "      <td>versicolor</td>\n",
       "      <td>versicolor</td>\n",
       "      <td>True</td>\n",
       "      <td>versicolor</td>\n",
       "      <td>True</td>\n",
       "      <td>versicolor</td>\n",
       "      <td>True</td>\n",
       "      <td>versicolor</td>\n",
       "      <td>True</td>\n",
       "    </tr>\n",
       "    <tr>\n",
       "      <th>32</th>\n",
       "      <td>5.2</td>\n",
       "      <td>4.1</td>\n",
       "      <td>1.5</td>\n",
       "      <td>0.1</td>\n",
       "      <td>setosa</td>\n",
       "      <td>setosa</td>\n",
       "      <td>True</td>\n",
       "      <td>setosa</td>\n",
       "      <td>True</td>\n",
       "      <td>setosa</td>\n",
       "      <td>True</td>\n",
       "      <td>setosa</td>\n",
       "      <td>True</td>\n",
       "    </tr>\n",
       "    <tr>\n",
       "      <th>141</th>\n",
       "      <td>6.9</td>\n",
       "      <td>3.1</td>\n",
       "      <td>5.1</td>\n",
       "      <td>2.3</td>\n",
       "      <td>virginica</td>\n",
       "      <td>virginica</td>\n",
       "      <td>True</td>\n",
       "      <td>virginica</td>\n",
       "      <td>True</td>\n",
       "      <td>virginica</td>\n",
       "      <td>True</td>\n",
       "      <td>virginica</td>\n",
       "      <td>True</td>\n",
       "    </tr>\n",
       "    <tr>\n",
       "      <th>125</th>\n",
       "      <td>7.2</td>\n",
       "      <td>3.2</td>\n",
       "      <td>6.0</td>\n",
       "      <td>1.8</td>\n",
       "      <td>virginica</td>\n",
       "      <td>virginica</td>\n",
       "      <td>True</td>\n",
       "      <td>virginica</td>\n",
       "      <td>True</td>\n",
       "      <td>virginica</td>\n",
       "      <td>True</td>\n",
       "      <td>virginica</td>\n",
       "      <td>True</td>\n",
       "    </tr>\n",
       "  </tbody>\n",
       "</table>\n",
       "</div>"
      ],
      "text/plain": [
       "     sepal_length  sepal_width  petal_length  petal_width     species  \\\n",
       "91            6.1          3.0           4.6          1.4  versicolor   \n",
       "63            6.1          2.9           4.7          1.4  versicolor   \n",
       "103           6.3          2.9           5.6          1.8   virginica   \n",
       "6             4.6          3.4           1.4          0.3      setosa   \n",
       "59            5.2          2.7           3.9          1.4  versicolor   \n",
       "29            4.7          3.2           1.6          0.2      setosa   \n",
       "27            5.2          3.5           1.5          0.2      setosa   \n",
       "35            5.0          3.2           1.2          0.2      setosa   \n",
       "99            5.7          2.8           4.1          1.3  versicolor   \n",
       "122           7.7          2.8           6.7          2.0   virginica   \n",
       "82            5.8          2.7           3.9          1.2  versicolor   \n",
       "42            4.4          3.2           1.3          0.2      setosa   \n",
       "117           7.7          3.8           6.7          2.2   virginica   \n",
       "61            5.9          3.0           4.2          1.5  versicolor   \n",
       "43            5.0          3.5           1.6          0.6      setosa   \n",
       "79            5.7          2.6           3.5          1.0  versicolor   \n",
       "100           6.3          3.3           6.0          2.5   virginica   \n",
       "25            5.0          3.0           1.6          0.2      setosa   \n",
       "108           6.7          2.5           5.8          1.8   virginica   \n",
       "94            5.6          2.7           4.2          1.3  versicolor   \n",
       "74            6.4          2.9           4.3          1.3  versicolor   \n",
       "54            6.5          2.8           4.6          1.5  versicolor   \n",
       "51            6.4          3.2           4.5          1.5  versicolor   \n",
       "73            6.1          2.8           4.7          1.2  versicolor   \n",
       "109           7.2          3.6           6.1          2.5   virginica   \n",
       "48            5.3          3.7           1.5          0.2      setosa   \n",
       "123           6.3          2.7           4.9          1.8   virginica   \n",
       "92            5.8          2.6           4.0          1.2  versicolor   \n",
       "102           7.1          3.0           5.9          2.1   virginica   \n",
       "11            4.8          3.4           1.6          0.2      setosa   \n",
       "98            5.1          2.5           3.0          1.1  versicolor   \n",
       "126           6.2          2.8           4.8          1.8   virginica   \n",
       "40            5.0          3.5           1.3          0.3      setosa   \n",
       "133           6.3          2.8           5.1          1.5   virginica   \n",
       "77            6.7          3.0           5.0          1.7  versicolor   \n",
       "24            4.8          3.4           1.9          0.2      setosa   \n",
       "8             4.4          2.9           1.4          0.2      setosa   \n",
       "20            5.4          3.4           1.7          0.2      setosa   \n",
       "22            4.6          3.6           1.0          0.2      setosa   \n",
       "93            5.0          2.3           3.3          1.0  versicolor   \n",
       "36            5.5          3.5           1.3          0.2      setosa   \n",
       "68            6.2          2.2           4.5          1.5  versicolor   \n",
       "32            5.2          4.1           1.5          0.1      setosa   \n",
       "141           6.9          3.1           5.1          2.3   virginica   \n",
       "125           7.2          3.2           6.0          1.8   virginica   \n",
       "\n",
       "    3NN_predicted  3NN_correct NB_predicted  NB_correct DT_predicted  \\\n",
       "91     versicolor         True   versicolor        True   versicolor   \n",
       "63     versicolor         True   versicolor        True   versicolor   \n",
       "103     virginica         True    virginica        True    virginica   \n",
       "6          setosa         True       setosa        True       setosa   \n",
       "59     versicolor         True   versicolor        True   versicolor   \n",
       "29         setosa         True       setosa        True       setosa   \n",
       "27         setosa         True       setosa        True       setosa   \n",
       "35         setosa         True       setosa        True       setosa   \n",
       "99     versicolor         True   versicolor        True   versicolor   \n",
       "122     virginica         True    virginica        True    virginica   \n",
       "82     versicolor         True   versicolor        True   versicolor   \n",
       "42         setosa         True       setosa        True       setosa   \n",
       "117     virginica         True    virginica        True    virginica   \n",
       "61     versicolor         True   versicolor        True   versicolor   \n",
       "43         setosa         True       setosa        True       setosa   \n",
       "79     versicolor         True   versicolor        True   versicolor   \n",
       "100     virginica         True    virginica        True    virginica   \n",
       "25         setosa         True       setosa        True       setosa   \n",
       "108     virginica         True    virginica        True    virginica   \n",
       "94     versicolor         True   versicolor        True   versicolor   \n",
       "74     versicolor         True   versicolor        True   versicolor   \n",
       "54     versicolor         True   versicolor        True   versicolor   \n",
       "51     versicolor         True   versicolor        True   versicolor   \n",
       "73     versicolor         True   versicolor        True   versicolor   \n",
       "109     virginica         True    virginica        True    virginica   \n",
       "48         setosa         True       setosa        True       setosa   \n",
       "123     virginica         True    virginica        True    virginica   \n",
       "92     versicolor         True   versicolor        True   versicolor   \n",
       "102     virginica         True    virginica        True    virginica   \n",
       "11         setosa         True       setosa        True       setosa   \n",
       "98     versicolor         True   versicolor        True   versicolor   \n",
       "126     virginica         True    virginica        True    virginica   \n",
       "40         setosa         True       setosa        True       setosa   \n",
       "133    versicolor        False   versicolor       False    virginica   \n",
       "77     versicolor         True    virginica       False    virginica   \n",
       "24         setosa         True       setosa        True       setosa   \n",
       "8          setosa         True       setosa        True       setosa   \n",
       "20         setosa         True       setosa        True       setosa   \n",
       "22         setosa         True       setosa        True       setosa   \n",
       "93     versicolor         True   versicolor        True   versicolor   \n",
       "36         setosa         True       setosa        True       setosa   \n",
       "68     versicolor         True   versicolor        True   versicolor   \n",
       "32         setosa         True       setosa        True       setosa   \n",
       "141     virginica         True    virginica        True    virginica   \n",
       "125     virginica         True    virginica        True    virginica   \n",
       "\n",
       "     DT_correct RF_predicted  RF_correct  \n",
       "91         True   versicolor        True  \n",
       "63         True   versicolor        True  \n",
       "103        True    virginica        True  \n",
       "6          True       setosa        True  \n",
       "59         True   versicolor        True  \n",
       "29         True       setosa        True  \n",
       "27         True       setosa        True  \n",
       "35         True       setosa        True  \n",
       "99         True   versicolor        True  \n",
       "122        True    virginica        True  \n",
       "82         True   versicolor        True  \n",
       "42         True       setosa        True  \n",
       "117        True    virginica        True  \n",
       "61         True   versicolor        True  \n",
       "43         True       setosa        True  \n",
       "79         True   versicolor        True  \n",
       "100        True    virginica        True  \n",
       "25         True       setosa        True  \n",
       "108        True    virginica        True  \n",
       "94         True   versicolor        True  \n",
       "74         True   versicolor        True  \n",
       "54         True   versicolor        True  \n",
       "51         True   versicolor        True  \n",
       "73         True   versicolor        True  \n",
       "109        True    virginica        True  \n",
       "48         True       setosa        True  \n",
       "123        True    virginica        True  \n",
       "92         True   versicolor        True  \n",
       "102        True    virginica        True  \n",
       "11         True       setosa        True  \n",
       "98         True   versicolor        True  \n",
       "126        True    virginica        True  \n",
       "40         True       setosa        True  \n",
       "133        True   versicolor       False  \n",
       "77        False    virginica       False  \n",
       "24         True       setosa        True  \n",
       "8          True       setosa        True  \n",
       "20         True       setosa        True  \n",
       "22         True       setosa        True  \n",
       "93         True   versicolor        True  \n",
       "36         True       setosa        True  \n",
       "68         True   versicolor        True  \n",
       "32         True       setosa        True  \n",
       "141        True    virginica        True  \n",
       "125        True    virginica        True  "
      ]
     },
     "execution_count": 44,
     "metadata": {},
     "output_type": "execute_result"
    }
   ],
   "source": [
    "df_test"
   ]
  },
  {
   "cell_type": "markdown",
   "id": "acad2ffe",
   "metadata": {},
   "source": [
    "## Support Vector Machine"
   ]
  },
  {
   "cell_type": "code",
   "execution_count": 45,
   "id": "d44927fc",
   "metadata": {},
   "outputs": [],
   "source": [
    "from sklearn.svm import SVC"
   ]
  },
  {
   "cell_type": "code",
   "execution_count": 46,
   "id": "03d0a3d5",
   "metadata": {},
   "outputs": [
    {
     "data": {
      "text/plain": [
       "SVC()"
      ]
     },
     "execution_count": 46,
     "metadata": {},
     "output_type": "execute_result"
    }
   ],
   "source": [
    "svm_classifier = SVC(kernel = 'rbf')\n",
    "\n",
    "svm_classifier.fit(df_train_features, df_train_target)"
   ]
  },
  {
   "cell_type": "code",
   "execution_count": 47,
   "id": "6bd32c37",
   "metadata": {},
   "outputs": [],
   "source": [
    "df_test['SVM_predicted'] = svm_classifier.predict(df_test_features)"
   ]
  },
  {
   "cell_type": "code",
   "execution_count": 48,
   "id": "99921d84",
   "metadata": {},
   "outputs": [],
   "source": [
    "df_test['SVM_correct'] = df_test['SVM_predicted'] == df_test[target_name]"
   ]
  },
  {
   "cell_type": "code",
   "execution_count": 49,
   "id": "9b37e46f",
   "metadata": {},
   "outputs": [
    {
     "name": "stdout",
     "output_type": "stream",
     "text": [
      "accuracy 98%\n"
     ]
    }
   ],
   "source": [
    "accuracy = df_test['SVM_correct'].sum() / df_test['SVM_correct'].count()\n",
    "print(f'accuracy {round(accuracy * 100)}%')"
   ]
  },
  {
   "cell_type": "markdown",
   "id": "8503c642",
   "metadata": {},
   "source": [
    "## Logistic Regression"
   ]
  },
  {
   "cell_type": "code",
   "execution_count": 50,
   "id": "e6b5ceb7",
   "metadata": {},
   "outputs": [],
   "source": [
    "from sklearn.linear_model import LogisticRegression"
   ]
  },
  {
   "cell_type": "code",
   "execution_count": 51,
   "id": "36b788af",
   "metadata": {},
   "outputs": [
    {
     "data": {
      "text/plain": [
       "LogisticRegression(max_iter=1000, random_state=0)"
      ]
     },
     "execution_count": 51,
     "metadata": {},
     "output_type": "execute_result"
    }
   ],
   "source": [
    "lr_classifier = LogisticRegression(random_state=0, max_iter=1000)\n",
    "\n",
    "lr_classifier.fit(df_train_features, df_train_target)"
   ]
  },
  {
   "cell_type": "code",
   "execution_count": 52,
   "id": "94f1a31f",
   "metadata": {},
   "outputs": [],
   "source": [
    "df_test['LR_predicted'] = svm_classifier.predict(df_test_features)"
   ]
  },
  {
   "cell_type": "code",
   "execution_count": 53,
   "id": "add497a0",
   "metadata": {},
   "outputs": [],
   "source": [
    "df_test['LR_correct'] = df_test['LR_predicted'] == df_test[target_name]"
   ]
  },
  {
   "cell_type": "code",
   "execution_count": 54,
   "id": "6d8cbf5e",
   "metadata": {},
   "outputs": [
    {
     "name": "stdout",
     "output_type": "stream",
     "text": [
      "accuracy 98%\n"
     ]
    }
   ],
   "source": [
    "accuracy = df_test['LR_correct'].sum() / df_test['LR_correct'].count()\n",
    "print(f'accuracy {round(accuracy * 100)}%')"
   ]
  },
  {
   "cell_type": "code",
   "execution_count": 55,
   "id": "4513b25c",
   "metadata": {},
   "outputs": [
    {
     "data": {
      "text/plain": [
       "array([[ 0, 79, 19],\n",
       "       [ 0, 74, 24],\n",
       "       [ 0, 10, 89],\n",
       "       [98,  1,  0],\n",
       "       [ 6, 86,  6],\n",
       "       [96,  3,  0],\n",
       "       [96,  3,  0],\n",
       "       [98,  1,  0],\n",
       "       [ 3, 90,  6],\n",
       "       [ 0,  0, 99],\n",
       "       [ 4, 92,  2],\n",
       "       [98,  1,  0],\n",
       "       [ 0,  0, 99],\n",
       "       [ 2, 86, 11],\n",
       "       [96,  3,  0],\n",
       "       [ 9, 89,  0],\n",
       "       [ 0,  0, 99],\n",
       "       [94,  5,  0],\n",
       "       [ 0,  6, 93],\n",
       "       [ 2, 88,  8],\n",
       "       [ 1, 91,  6],\n",
       "       [ 0, 78, 21],\n",
       "       [ 0, 82, 16],\n",
       "       [ 0, 83, 16],\n",
       "       [ 0,  0, 99],\n",
       "       [97,  2,  0],\n",
       "       [ 0, 38, 61],\n",
       "       [ 3, 93,  3],\n",
       "       [ 0,  3, 96],\n",
       "       [97,  2,  0],\n",
       "       [32, 67,  0],\n",
       "       [ 0, 44, 55],\n",
       "       [98,  1,  0],\n",
       "       [ 0, 47, 52],\n",
       "       [ 0, 47, 52],\n",
       "       [94,  5,  0],\n",
       "       [97,  2,  0],\n",
       "       [93,  6,  0],\n",
       "       [99,  0,  0],\n",
       "       [18, 81,  0],\n",
       "       [97,  2,  0],\n",
       "       [ 0, 76, 23],\n",
       "       [98,  1,  0],\n",
       "       [ 0, 13, 86],\n",
       "       [ 0,  6, 93]])"
      ]
     },
     "execution_count": 55,
     "metadata": {},
     "output_type": "execute_result"
    }
   ],
   "source": [
    "(lr_classifier.predict_proba(df_test_features)*100).astype('int')"
   ]
  },
  {
   "cell_type": "markdown",
   "id": "bd298303",
   "metadata": {},
   "source": [
    "## Neural Network - MLP Multi Layer Perceptron "
   ]
  },
  {
   "cell_type": "code",
   "execution_count": 56,
   "id": "d528275d",
   "metadata": {},
   "outputs": [],
   "source": [
    "from sklearn.neural_network import MLPClassifier"
   ]
  },
  {
   "cell_type": "code",
   "execution_count": 57,
   "id": "4f4f83e0",
   "metadata": {},
   "outputs": [
    {
     "data": {
      "text/plain": [
       "MLPClassifier(alpha=1e-05, hidden_layer_sizes=(5, 5), max_iter=1000,\n",
       "              random_state=1, solver='lbfgs')"
      ]
     },
     "execution_count": 57,
     "metadata": {},
     "output_type": "execute_result"
    }
   ],
   "source": [
    "mlp_classifier = MLPClassifier(solver='lbfgs',\n",
    "                               activation='relu',     #'logistic',\n",
    "                               alpha=1e-5,\n",
    "                               hidden_layer_sizes=(5, 5), \n",
    "                               random_state=1,\n",
    "                               max_iter=1000)\n",
    "\n",
    "mlp_classifier.fit(df_train_features, df_train_target)"
   ]
  },
  {
   "cell_type": "code",
   "execution_count": 58,
   "id": "2a0c34ad",
   "metadata": {},
   "outputs": [],
   "source": [
    "df_test['MLP_predicted'] = mlp_classifier.predict(df_test_features)"
   ]
  },
  {
   "cell_type": "code",
   "execution_count": 59,
   "id": "30e63b57",
   "metadata": {},
   "outputs": [],
   "source": [
    "df_test['MLP_correct'] = df_test['MLP_predicted'] == df_test[target_name]"
   ]
  },
  {
   "cell_type": "code",
   "execution_count": 60,
   "id": "df27666f",
   "metadata": {},
   "outputs": [
    {
     "name": "stdout",
     "output_type": "stream",
     "text": [
      "accuracy 96%\n"
     ]
    }
   ],
   "source": [
    "accuracy = df_test['MLP_correct'].sum() / df_test['MLP_correct'].count()\n",
    "print(f'accuracy {round(accuracy * 100)}%')"
   ]
  },
  {
   "cell_type": "code",
   "execution_count": 61,
   "id": "e24987d9",
   "metadata": {
    "scrolled": true
   },
   "outputs": [
    {
     "data": {
      "text/plain": [
       "array([[  0., 100.,   0.],\n",
       "       [  0., 100.,   0.],\n",
       "       [  0.,   0., 100.],\n",
       "       [100.,   0.,   0.],\n",
       "       [  0., 100.,   0.],\n",
       "       [100.,   0.,   0.],\n",
       "       [100.,   0.,   0.],\n",
       "       [100.,   0.,   0.],\n",
       "       [  0., 100.,   0.],\n",
       "       [  0.,   0., 100.],\n",
       "       [  0., 100.,   0.],\n",
       "       [100.,   0.,   0.],\n",
       "       [  0.,   0., 100.],\n",
       "       [  0., 100.,   0.],\n",
       "       [100.,   0.,   0.],\n",
       "       [  0., 100.,   0.],\n",
       "       [  0.,   0., 100.],\n",
       "       [100.,   0.,   0.],\n",
       "       [  0.,   0., 100.],\n",
       "       [  0., 100.,   0.],\n",
       "       [  0., 100.,   0.],\n",
       "       [  0., 100.,   0.],\n",
       "       [  0., 100.,   0.],\n",
       "       [  0., 100.,   0.],\n",
       "       [  0.,   0., 100.],\n",
       "       [100.,   0.,   0.],\n",
       "       [  0.,  40.,  60.],\n",
       "       [  0., 100.,   0.],\n",
       "       [  0.,   0., 100.],\n",
       "       [100.,   0.,   0.],\n",
       "       [  0., 100.,   0.],\n",
       "       [  0.,  63.,  37.],\n",
       "       [100.,   0.,   0.],\n",
       "       [  0.,  73.,  27.],\n",
       "       [  0.,  92.,   8.],\n",
       "       [100.,   0.,   0.],\n",
       "       [100.,   0.,   0.],\n",
       "       [100.,   0.,   0.],\n",
       "       [100.,   0.,   0.],\n",
       "       [  0., 100.,   0.],\n",
       "       [100.,   0.,   0.],\n",
       "       [  0., 100.,   0.],\n",
       "       [100.,   0.,   0.],\n",
       "       [  0.,   1.,  99.],\n",
       "       [  0.,   0., 100.]])"
      ]
     },
     "execution_count": 61,
     "metadata": {},
     "output_type": "execute_result"
    }
   ],
   "source": [
    "(mlp_classifier.predict_proba(df_test_features)*100).round()"
   ]
  },
  {
   "cell_type": "markdown",
   "id": "16fc3be2",
   "metadata": {},
   "source": [
    "---\n",
    "## Model Evaluation"
   ]
  },
  {
   "cell_type": "code",
   "execution_count": 62,
   "id": "f764c9f6",
   "metadata": {},
   "outputs": [],
   "source": [
    "import sklearn.metrics as sklm"
   ]
  },
  {
   "cell_type": "markdown",
   "id": "a626adf6",
   "metadata": {},
   "source": [
    "## Confusion matrix"
   ]
  },
  {
   "cell_type": "code",
   "execution_count": 63,
   "id": "c7fe6e81",
   "metadata": {},
   "outputs": [
    {
     "data": {
      "text/plain": [
       "array([[16,  0,  0],\n",
       "       [ 0, 16,  1],\n",
       "       [ 0,  1, 11]])"
      ]
     },
     "execution_count": 63,
     "metadata": {},
     "output_type": "execute_result"
    }
   ],
   "source": [
    "cm = sklm.confusion_matrix(df_test['species'], df_test['NB_predicted'])\n",
    "cm"
   ]
  },
  {
   "cell_type": "markdown",
   "id": "042080d0",
   "metadata": {},
   "source": [
    "## Accuracy"
   ]
  },
  {
   "cell_type": "code",
   "execution_count": 64,
   "id": "c0756eb7",
   "metadata": {},
   "outputs": [
    {
     "data": {
      "text/plain": [
       "0.9555555555555556"
      ]
     },
     "execution_count": 64,
     "metadata": {},
     "output_type": "execute_result"
    }
   ],
   "source": [
    "accuracy = sklm.accuracy_score(df_test['species'], df_test['NB_predicted'])\n",
    "accuracy"
   ]
  },
  {
   "cell_type": "markdown",
   "id": "c49c6122",
   "metadata": {},
   "source": [
    "## Precision, Recall, F1"
   ]
  },
  {
   "cell_type": "code",
   "execution_count": 65,
   "id": "0c391a35",
   "metadata": {},
   "outputs": [
    {
     "data": {
      "text/plain": [
       "(array([1.        , 0.94117647, 0.91666667]),\n",
       " array([1.        , 0.94117647, 0.91666667]),\n",
       " array([1.        , 0.94117647, 0.91666667]),\n",
       " array([16, 17, 12]))"
      ]
     },
     "execution_count": 65,
     "metadata": {},
     "output_type": "execute_result"
    }
   ],
   "source": [
    "metrics = sklm.precision_recall_fscore_support(df_test['species'], df_test['NB_predicted'])\n",
    "\n",
    "metrics"
   ]
  },
  {
   "cell_type": "code",
   "execution_count": 66,
   "id": "ebcb18f1",
   "metadata": {},
   "outputs": [],
   "source": [
    "def print_metrics(actual, predicted):\n",
    "    conf = sklm.confusion_matrix(actual, predicted)\n",
    "    metrics = sklm.precision_recall_fscore_support(actual, predicted)\n",
    "    print('Confusion matrix')\n",
    "    print()\n",
    "    print('                 Predicted Setosa    Predicted Versicolor     Predicted Virginica')\n",
    "    print('Actual Setosa       %6d' % conf[0,0] + '               %5d' % conf[0,1] + '                    %5d' % conf[0,2])\n",
    "    print('Actual Versicolor   %6d' % conf[1,0] + '               %5d' % conf[1,1] + '                    %5d' % conf[1,2])\n",
    "    print('Actual Virginica    %6d' % conf[2,0] + '               %5d' % conf[2,1] + '                    %5d' % conf[2,2])\n",
    "    print()\n",
    "    print('Accuracy  %0.2f' % sklm.accuracy_score(actual, predicted))\n",
    "    print()\n",
    "    print('               Setosa        Versicolor         Virginica')\n",
    "    print('Num case   %10d' % metrics[3][0] + '        %10d' % metrics[3][1]+ '        %10d' % metrics[3][2])\n",
    "    print('Precision  %10.2f' % metrics[0][0] + '        %10.2f' % metrics[0][1] + '        %10.2f' % metrics[0][2])\n",
    "    print('Recall     %10.2f' % metrics[1][0] + '        %10.2f' % metrics[1][1] + '        %10.2f' % metrics[1][2])\n",
    "    print('F1         %10.2f' % metrics[2][0] + '        %10.2f' % metrics[2][1] + '        %10.2f' % metrics[2][2])"
   ]
  },
  {
   "cell_type": "code",
   "execution_count": 67,
   "id": "eb243631",
   "metadata": {
    "scrolled": false
   },
   "outputs": [
    {
     "name": "stdout",
     "output_type": "stream",
     "text": [
      "\n",
      "3-Nearest Neighbor **************************************************************\n",
      "\n",
      "Confusion matrix\n",
      "\n",
      "                 Predicted Setosa    Predicted Versicolor     Predicted Virginica\n",
      "Actual Setosa           16                   0                        0\n",
      "Actual Versicolor        0                  17                        0\n",
      "Actual Virginica         0                   1                       11\n",
      "\n",
      "Accuracy  0.98\n",
      "\n",
      "               Setosa        Versicolor         Virginica\n",
      "Num case           16                17                12\n",
      "Precision        1.00              0.94              1.00\n",
      "Recall           1.00              1.00              0.92\n",
      "F1               1.00              0.97              0.96\n",
      "\n",
      "Naive Bayes *********************************************************************\n",
      "\n",
      "Confusion matrix\n",
      "\n",
      "                 Predicted Setosa    Predicted Versicolor     Predicted Virginica\n",
      "Actual Setosa           16                   0                        0\n",
      "Actual Versicolor        0                  16                        1\n",
      "Actual Virginica         0                   1                       11\n",
      "\n",
      "Accuracy  0.96\n",
      "\n",
      "               Setosa        Versicolor         Virginica\n",
      "Num case           16                17                12\n",
      "Precision        1.00              0.94              0.92\n",
      "Recall           1.00              0.94              0.92\n",
      "F1               1.00              0.94              0.92\n",
      "\n",
      "Decision Tree *******************************************************************\n",
      "\n",
      "Confusion matrix\n",
      "\n",
      "                 Predicted Setosa    Predicted Versicolor     Predicted Virginica\n",
      "Actual Setosa           16                   0                        0\n",
      "Actual Versicolor        0                  16                        1\n",
      "Actual Virginica         0                   0                       12\n",
      "\n",
      "Accuracy  0.98\n",
      "\n",
      "               Setosa        Versicolor         Virginica\n",
      "Num case           16                17                12\n",
      "Precision        1.00              1.00              0.92\n",
      "Recall           1.00              0.94              1.00\n",
      "F1               1.00              0.97              0.96\n",
      "\n",
      "Random Forest *******************************************************************\n",
      "\n",
      "Confusion matrix\n",
      "\n",
      "                 Predicted Setosa    Predicted Versicolor     Predicted Virginica\n",
      "Actual Setosa           16                   0                        0\n",
      "Actual Versicolor        0                  16                        1\n",
      "Actual Virginica         0                   1                       11\n",
      "\n",
      "Accuracy  0.96\n",
      "\n",
      "               Setosa        Versicolor         Virginica\n",
      "Num case           16                17                12\n",
      "Precision        1.00              0.94              0.92\n",
      "Recall           1.00              0.94              0.92\n",
      "F1               1.00              0.94              0.92\n",
      "\n",
      "Support Vector Machine ***********************************************************\n",
      "\n",
      "Confusion matrix\n",
      "\n",
      "                 Predicted Setosa    Predicted Versicolor     Predicted Virginica\n",
      "Actual Setosa           16                   0                        0\n",
      "Actual Versicolor        0                  16                        1\n",
      "Actual Virginica         0                   0                       12\n",
      "\n",
      "Accuracy  0.98\n",
      "\n",
      "               Setosa        Versicolor         Virginica\n",
      "Num case           16                17                12\n",
      "Precision        1.00              1.00              0.92\n",
      "Recall           1.00              0.94              1.00\n",
      "F1               1.00              0.97              0.96\n",
      "\n",
      "Logistic Regression **************************************************************\n",
      "\n",
      "Confusion matrix\n",
      "\n",
      "                 Predicted Setosa    Predicted Versicolor     Predicted Virginica\n",
      "Actual Setosa           16                   0                        0\n",
      "Actual Versicolor        0                  16                        1\n",
      "Actual Virginica         0                   0                       12\n",
      "\n",
      "Accuracy  0.98\n",
      "\n",
      "               Setosa        Versicolor         Virginica\n",
      "Num case           16                17                12\n",
      "Precision        1.00              1.00              0.92\n",
      "Recall           1.00              0.94              1.00\n",
      "F1               1.00              0.97              0.96\n",
      "\n",
      "Multi-Layer Perceptron / Neural Network ******************************************\n",
      "\n",
      "Confusion matrix\n",
      "\n",
      "                 Predicted Setosa    Predicted Versicolor     Predicted Virginica\n",
      "Actual Setosa           16                   0                        0\n",
      "Actual Versicolor        0                  17                        0\n",
      "Actual Virginica         0                   2                       10\n",
      "\n",
      "Accuracy  0.96\n",
      "\n",
      "               Setosa        Versicolor         Virginica\n",
      "Num case           16                17                12\n",
      "Precision        1.00              0.89              1.00\n",
      "Recall           1.00              1.00              0.83\n",
      "F1               1.00              0.94              0.91\n"
     ]
    }
   ],
   "source": [
    "print('\\n3-Nearest Neighbor **************************************************************\\n')\n",
    "print_metrics(df_test[target_name], df_test['3NN_predicted'])   \n",
    "\n",
    "print('\\nNaive Bayes *********************************************************************\\n')\n",
    "print_metrics(df_test[target_name], df_test['NB_predicted'])   \n",
    "\n",
    "print('\\nDecision Tree *******************************************************************\\n')\n",
    "print_metrics(df_test[target_name], df_test['DT_predicted'])   \n",
    "\n",
    "print('\\nRandom Forest *******************************************************************\\n')\n",
    "print_metrics(df_test[target_name], df_test['RF_predicted'])   \n",
    "\n",
    "print('\\nSupport Vector Machine ***********************************************************\\n')\n",
    "print_metrics(df_test[target_name], df_test['SVM_predicted'])   \n",
    "\n",
    "print('\\nLogistic Regression **************************************************************\\n')\n",
    "print_metrics(df_test[target_name], df_test['LR_predicted'])   \n",
    "\n",
    "\n",
    "print('\\nMulti-Layer Perceptron / Neural Network ******************************************\\n')\n",
    "print_metrics(df_test[target_name], df_test['MLP_predicted'])   "
   ]
  },
  {
   "cell_type": "markdown",
   "id": "56005f9d",
   "metadata": {},
   "source": [
    "## Plots"
   ]
  },
  {
   "cell_type": "code",
   "execution_count": 68,
   "id": "c1db9e0f",
   "metadata": {},
   "outputs": [],
   "source": [
    "def plot_iris_all(df, feature_columns, target_column, predicted_column):\n",
    "    targets = sorted(df[target_column].unique())\n",
    "    markers = {True:('.', 24, 1.0), False:('d', 80, 1.0)}\n",
    "    cycle_colors = plt.rcParams['axes.prop_cycle'].by_key()['color']\n",
    "    colors = dict(zip(targets, cycle_colors[:len(targets)]))\n",
    "    n = len(feature_columns)\n",
    "    fig, axs = plt.subplots(n, n, sharex='col', sharey='row', figsize=(16, 16))\n",
    "    for irow, row_feature in enumerate(feature_columns):\n",
    "        for icol, col_feature in enumerate(feature_columns):\n",
    "            if irow == icol:\n",
    "                axs[irow, icol].set_visible(False) \n",
    "                axs[irow, icol].axis('off')\n",
    "            else:\n",
    "                for is_correct, m in markers.items():\n",
    "                    for specie, c in colors.items():\n",
    "                        if is_correct:\n",
    "                            df_temp = df[(df[target_column] == df[predicted_column]) & (df[target_column] == specie)]\n",
    "                        else:\n",
    "                            df_temp = df[(df[target_column] != df[predicted_column]) & (df[target_column] == specie)]\n",
    "\n",
    "                        sns.regplot(x = col_feature, \n",
    "                                    y = row_feature, \n",
    "                                    data = df_temp,  \n",
    "                                    fit_reg = False, \n",
    "                                    marker = m[0],\n",
    "                                    scatter_kws = {'color': c, 's': m[1], 'alpha':m[2]},\n",
    "                                    ax = axs[irow, icol])"
   ]
  },
  {
   "cell_type": "code",
   "execution_count": 69,
   "id": "33df1420",
   "metadata": {},
   "outputs": [
    {
     "data": {
      "image/png": "[encoded data removed]",
      "text/plain": [
       "<Figure size 1152x1152 with 16 Axes>"
      ]
     },
     "metadata": {
      "needs_background": "light"
     },
     "output_type": "display_data"
    }
   ],
   "source": [
    "plot_iris_all(df_test, feature_names, target_name, 'DT_predicted')"
   ]
  },
  {
   "cell_type": "code",
   "execution_count": null,
   "id": "b201947b",
   "metadata": {},
   "outputs": [],
   "source": []
  },
  {
   "cell_type": "code",
   "execution_count": null,
   "id": "cf3bcd96",
   "metadata": {},
   "outputs": [],
   "source": []
  }
 ],
 "metadata": {
  "kernelspec": {
   "display_name": "Python 3.9.5 64-bit ('base': conda)",
   "language": "python",
   "name": "python395jvsc74a57bd0e7cb1b9ae4d417fedf7f40a8eec98f7cfbd359e096bd857395a915f4609834ce"
  },
  "language_info": {
   "codemirror_mode": {
    "name": "ipython",
    "version": 3
   },
   "file_extension": ".py",
   "mimetype": "text/x-python",
   "name": "python",
   "nbconvert_exporter": "python",
   "pygments_lexer": "ipython3",
   "version": "3.9.9"
  }
 },
 "nbformat": 4,
 "nbformat_minor": 5
}
