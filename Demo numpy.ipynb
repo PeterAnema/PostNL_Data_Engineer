{
 "cells": [
  {
   "cell_type": "markdown",
   "id": "04cd2cb2",
   "metadata": {},
   "source": [
    "# Numpy"
   ]
  },
  {
   "cell_type": "code",
   "execution_count": 84,
   "id": "5f3538c1",
   "metadata": {},
   "outputs": [],
   "source": [
    "import numpy as np\n",
    "import matplotlib.pyplot as plt"
   ]
  },
  {
   "cell_type": "code",
   "execution_count": 12,
   "id": "15252711",
   "metadata": {},
   "outputs": [
    {
     "data": {
      "text/plain": [
       "[2, 5, 3, 8, 5, 6]"
      ]
     },
     "execution_count": 12,
     "metadata": {},
     "output_type": "execute_result"
    }
   ],
   "source": [
    "getallen = [2,5,3,8,5,6]\n",
    "getallen"
   ]
  },
  {
   "cell_type": "code",
   "execution_count": 13,
   "id": "149165c3",
   "metadata": {},
   "outputs": [
    {
     "data": {
      "text/plain": [
       "array([2, 5, 3, 8, 5, 6])"
      ]
     },
     "execution_count": 13,
     "metadata": {},
     "output_type": "execute_result"
    }
   ],
   "source": [
    "a = np.array(getallen)\n",
    "a"
   ]
  },
  {
   "cell_type": "code",
   "execution_count": 14,
   "id": "1ab3a23f",
   "metadata": {},
   "outputs": [
    {
     "data": {
      "text/plain": [
       "numpy.ndarray"
      ]
     },
     "execution_count": 14,
     "metadata": {},
     "output_type": "execute_result"
    }
   ],
   "source": [
    "type(a)"
   ]
  },
  {
   "cell_type": "code",
   "execution_count": 15,
   "id": "8904bf3c",
   "metadata": {},
   "outputs": [
    {
     "data": {
      "text/plain": [
       "dtype('int64')"
      ]
     },
     "execution_count": 15,
     "metadata": {},
     "output_type": "execute_result"
    }
   ],
   "source": [
    "a.dtype"
   ]
  },
  {
   "cell_type": "code",
   "execution_count": 16,
   "id": "49ee584c",
   "metadata": {},
   "outputs": [
    {
     "data": {
      "text/plain": [
       "1"
      ]
     },
     "execution_count": 16,
     "metadata": {},
     "output_type": "execute_result"
    }
   ],
   "source": [
    "a.ndim"
   ]
  },
  {
   "cell_type": "code",
   "execution_count": 17,
   "id": "63f85324",
   "metadata": {},
   "outputs": [
    {
     "data": {
      "text/plain": [
       "6"
      ]
     },
     "execution_count": 17,
     "metadata": {},
     "output_type": "execute_result"
    }
   ],
   "source": [
    "len(a)"
   ]
  },
  {
   "cell_type": "code",
   "execution_count": 19,
   "id": "dc104ec2",
   "metadata": {},
   "outputs": [
    {
     "data": {
      "text/plain": [
       "(6,)"
      ]
     },
     "execution_count": 19,
     "metadata": {},
     "output_type": "execute_result"
    }
   ],
   "source": [
    "a.shape"
   ]
  },
  {
   "cell_type": "code",
   "execution_count": 27,
   "id": "6ac67ec4",
   "metadata": {},
   "outputs": [
    {
     "data": {
      "text/plain": [
       "array([[1, 2, 3],\n",
       "       [4, 5, 6],\n",
       "       [7, 8, 9]])"
      ]
     },
     "execution_count": 27,
     "metadata": {},
     "output_type": "execute_result"
    }
   ],
   "source": [
    "m = np.array([1,2,3,4,5,6,7,8,9]).reshape(3, 3)\n",
    "m"
   ]
  },
  {
   "cell_type": "code",
   "execution_count": 28,
   "id": "fc564abd",
   "metadata": {},
   "outputs": [
    {
     "data": {
      "text/plain": [
       "(3, 3)"
      ]
     },
     "execution_count": 28,
     "metadata": {},
     "output_type": "execute_result"
    }
   ],
   "source": [
    "m.shape"
   ]
  },
  {
   "cell_type": "code",
   "execution_count": 30,
   "id": "cdbb9339",
   "metadata": {},
   "outputs": [
    {
     "data": {
      "text/plain": [
       "array([[[ 0,  1,  2],\n",
       "        [ 3,  4,  5],\n",
       "        [ 6,  7,  8]],\n",
       "\n",
       "       [[ 9, 10, 11],\n",
       "        [12, 13, 14],\n",
       "        [15, 16, 17]],\n",
       "\n",
       "       [[18, 19, 20],\n",
       "        [21, 22, 23],\n",
       "        [24, 25, 26]]])"
      ]
     },
     "execution_count": 30,
     "metadata": {},
     "output_type": "execute_result"
    }
   ],
   "source": [
    "np.array(range(27)).reshape(3,3,3)"
   ]
  },
  {
   "cell_type": "code",
   "execution_count": 33,
   "id": "9242bbe1",
   "metadata": {},
   "outputs": [
    {
     "data": {
      "text/plain": [
       "array([[1, 3, 5, 7],\n",
       "       [2, 4, 6, 8]])"
      ]
     },
     "execution_count": 33,
     "metadata": {},
     "output_type": "execute_result"
    }
   ],
   "source": [
    "a = np.array([1,2,3,4,5,6,7,8]).reshape(4, 2).T\n",
    "a"
   ]
  },
  {
   "cell_type": "code",
   "execution_count": 37,
   "id": "5567296f",
   "metadata": {},
   "outputs": [
    {
     "data": {
      "text/plain": [
       "array([ 1. ,  1.5,  2. ,  2.5,  3. ,  3.5,  4. ,  4.5,  5. ,  5.5,  6. ,\n",
       "        6.5,  7. ,  7.5,  8. ,  8.5,  9. ,  9.5, 10. , 10.5, 11. , 11.5,\n",
       "       12. , 12.5, 13. , 13.5, 14. , 14.5, 15. , 15.5, 16. , 16.5, 17. ,\n",
       "       17.5, 18. , 18.5, 19. , 19.5, 20. , 20.5, 21. , 21.5, 22. , 22.5,\n",
       "       23. , 23.5, 24. , 24.5, 25. , 25.5, 26. , 26.5, 27. , 27.5])"
      ]
     },
     "execution_count": 37,
     "metadata": {},
     "output_type": "execute_result"
    }
   ],
   "source": [
    "np.arange(1, 28, 0.5)"
   ]
  },
  {
   "cell_type": "code",
   "execution_count": 42,
   "id": "de58087c",
   "metadata": {},
   "outputs": [
    {
     "data": {
      "text/plain": [
       "array([[ 1. ,  1.5,  2. ,  2.5,  3. ],\n",
       "       [ 3.5,  4. ,  4.5,  5. ,  5.5],\n",
       "       [ 6. ,  6.5,  7. ,  7.5,  8. ],\n",
       "       [ 8.5,  9. ,  9.5, 10. , 10.5],\n",
       "       [11. , 11.5, 12. , 12.5, 13. ],\n",
       "       [13.5, 14. , 14.5, 15. , 15.5],\n",
       "       [16. , 16.5, 17. , 17.5, 18. ],\n",
       "       [18.5, 19. , 19.5, 20. , 20.5],\n",
       "       [21. , 21.5, 22. , 22.5, 23. ],\n",
       "       [23.5, 24. , 24.5, 25. , 25.5],\n",
       "       [26. , 26.5, 27. , 27.5, 28. ]])"
      ]
     },
     "execution_count": 42,
     "metadata": {},
     "output_type": "execute_result"
    }
   ],
   "source": [
    "np.linspace(1, 28, 55).reshape(11, 5)"
   ]
  },
  {
   "cell_type": "code",
   "execution_count": 46,
   "id": "b4ed57b5",
   "metadata": {},
   "outputs": [
    {
     "data": {
      "text/plain": [
       "array([3, 3, 3, 3, 3, 3, 3, 3, 3, 3])"
      ]
     },
     "execution_count": 46,
     "metadata": {},
     "output_type": "execute_result"
    }
   ],
   "source": [
    "np.full(10, 3)"
   ]
  },
  {
   "attachments": {},
   "cell_type": "markdown",
   "id": "589d3a55",
   "metadata": {},
   "source": [
    "## Indexing and Slicing"
   ]
  },
  {
   "cell_type": "code",
   "execution_count": 48,
   "id": "fa080bb3",
   "metadata": {},
   "outputs": [
    {
     "data": {
      "text/plain": [
       "array([ 0,  1,  2,  3,  4,  5,  6,  7,  8,  9, 10, 11, 12, 13, 14, 15, 16,\n",
       "       17, 18, 19, 20, 21, 22, 23, 24, 25, 26])"
      ]
     },
     "execution_count": 48,
     "metadata": {},
     "output_type": "execute_result"
    }
   ],
   "source": [
    "a = np.arange(27)\n",
    "a"
   ]
  },
  {
   "cell_type": "code",
   "execution_count": 49,
   "id": "f9cf19fa",
   "metadata": {},
   "outputs": [
    {
     "data": {
      "text/plain": [
       "4"
      ]
     },
     "execution_count": 49,
     "metadata": {},
     "output_type": "execute_result"
    }
   ],
   "source": [
    "a[4]"
   ]
  },
  {
   "cell_type": "code",
   "execution_count": 50,
   "id": "9c54f48d",
   "metadata": {},
   "outputs": [
    {
     "data": {
      "text/plain": [
       "array([ 6,  7,  8,  9, 10, 11])"
      ]
     },
     "execution_count": 50,
     "metadata": {},
     "output_type": "execute_result"
    }
   ],
   "source": [
    "a[6:12]"
   ]
  },
  {
   "cell_type": "code",
   "execution_count": 51,
   "id": "4311f824",
   "metadata": {},
   "outputs": [
    {
     "data": {
      "text/plain": [
       "array([22, 23, 24, 25, 26])"
      ]
     },
     "execution_count": 51,
     "metadata": {},
     "output_type": "execute_result"
    }
   ],
   "source": [
    "a[-5:]"
   ]
  },
  {
   "cell_type": "code",
   "execution_count": 52,
   "id": "415cf75c",
   "metadata": {},
   "outputs": [
    {
     "data": {
      "text/plain": [
       "array([[ 0,  1,  2,  3,  4,  5],\n",
       "       [ 6,  7,  8,  9, 10, 11],\n",
       "       [12, 13, 14, 15, 16, 17],\n",
       "       [18, 19, 20, 21, 22, 23]])"
      ]
     },
     "execution_count": 52,
     "metadata": {},
     "output_type": "execute_result"
    }
   ],
   "source": [
    "m = np.arange(24).reshape(4, 6)\n",
    "m"
   ]
  },
  {
   "cell_type": "code",
   "execution_count": 56,
   "id": "f0f75290",
   "metadata": {},
   "outputs": [
    {
     "data": {
      "text/plain": [
       "20"
      ]
     },
     "execution_count": 56,
     "metadata": {},
     "output_type": "execute_result"
    }
   ],
   "source": [
    "m[-1, 2]"
   ]
  },
  {
   "cell_type": "code",
   "execution_count": 59,
   "id": "3766d2f9",
   "metadata": {},
   "outputs": [
    {
     "data": {
      "text/plain": [
       "array([[14, 15, 16, 17],\n",
       "       [20, 21, 22, 23]])"
      ]
     },
     "execution_count": 59,
     "metadata": {},
     "output_type": "execute_result"
    }
   ],
   "source": [
    "m[-2:, 2:]"
   ]
  },
  {
   "cell_type": "code",
   "execution_count": 62,
   "id": "aa9911ae",
   "metadata": {},
   "outputs": [
    {
     "data": {
      "text/plain": [
       "array([0, 1, 2, 3, 4, 5, 6])"
      ]
     },
     "execution_count": 62,
     "metadata": {},
     "output_type": "execute_result"
    }
   ],
   "source": [
    "a = np.arange(7)\n",
    "a"
   ]
  },
  {
   "cell_type": "code",
   "execution_count": 64,
   "id": "310edd47",
   "metadata": {},
   "outputs": [
    {
     "data": {
      "text/plain": [
       "array([0, 3, 4, 6])"
      ]
     },
     "execution_count": 64,
     "metadata": {},
     "output_type": "execute_result"
    }
   ],
   "source": [
    "mask = [True, False, False, True, True, False, True]\n",
    "a[mask]"
   ]
  },
  {
   "cell_type": "code",
   "execution_count": 65,
   "id": "9777a0e2",
   "metadata": {},
   "outputs": [
    {
     "data": {
      "text/plain": [
       "array([6, 2, 4, 3, 1])"
      ]
     },
     "execution_count": 65,
     "metadata": {},
     "output_type": "execute_result"
    }
   ],
   "source": [
    "fancy_index = [6,2,4,3,1]\n",
    "a[fancy_index]"
   ]
  },
  {
   "cell_type": "markdown",
   "id": "dd42af23",
   "metadata": {},
   "source": [
    "## Vectorized"
   ]
  },
  {
   "cell_type": "code",
   "execution_count": 75,
   "id": "488001a4",
   "metadata": {},
   "outputs": [
    {
     "data": {
      "text/plain": [
       "[2, 5, 3, 8, 5, 6]"
      ]
     },
     "execution_count": 75,
     "metadata": {},
     "output_type": "execute_result"
    }
   ],
   "source": [
    "getallen"
   ]
  },
  {
   "cell_type": "code",
   "execution_count": 70,
   "id": "8eea4769",
   "metadata": {},
   "outputs": [
    {
     "data": {
      "text/plain": [
       "array([2, 5, 3, 8, 5, 6])"
      ]
     },
     "execution_count": 70,
     "metadata": {},
     "output_type": "execute_result"
    }
   ],
   "source": [
    "a = np.array(getallen)\n",
    "a"
   ]
  },
  {
   "cell_type": "code",
   "execution_count": 71,
   "id": "c8bb0f67",
   "metadata": {},
   "outputs": [
    {
     "data": {
      "text/plain": [
       "array([ 4, 10,  6, 16, 10, 12])"
      ]
     },
     "execution_count": 71,
     "metadata": {},
     "output_type": "execute_result"
    }
   ],
   "source": [
    "a * 2"
   ]
  },
  {
   "cell_type": "code",
   "execution_count": 74,
   "id": "0ad7ca18",
   "metadata": {},
   "outputs": [
    {
     "data": {
      "text/plain": [
       "array([ 4, 25,  9, 64, 25, 36])"
      ]
     },
     "execution_count": 74,
     "metadata": {},
     "output_type": "execute_result"
    }
   ],
   "source": [
    "a ** 2"
   ]
  },
  {
   "cell_type": "code",
   "execution_count": 77,
   "id": "db3013d4",
   "metadata": {},
   "outputs": [
    {
     "data": {
      "text/plain": [
       "array([ 3,  7,  6, 12, 10, 12])"
      ]
     },
     "execution_count": 77,
     "metadata": {},
     "output_type": "execute_result"
    }
   ],
   "source": [
    "a + np.array([1,2,3,4,5,6])"
   ]
  },
  {
   "cell_type": "markdown",
   "id": "82c13c03",
   "metadata": {},
   "source": [
    "## Unary ufuncs"
   ]
  },
  {
   "cell_type": "code",
   "execution_count": 79,
   "id": "d131e888",
   "metadata": {},
   "outputs": [],
   "source": [
    "x = np.linspace(0, 10, 101)"
   ]
  },
  {
   "cell_type": "code",
   "execution_count": 92,
   "id": "81e6d819",
   "metadata": {},
   "outputs": [],
   "source": [
    "y1 = np.sin(x)\n",
    "y2 = np.cos(2*x)"
   ]
  },
  {
   "cell_type": "code",
   "execution_count": 93,
   "id": "b57df610",
   "metadata": {},
   "outputs": [
    {
     "data": {
      "image/png": "[encoded data removed]",
      "text/plain": [
       "<Figure size 432x288 with 1 Axes>"
      ]
     },
     "metadata": {
      "needs_background": "light"
     },
     "output_type": "display_data"
    }
   ],
   "source": [
    "plt.plot(x, y1)\n",
    "plt.plot(x, y2)\n",
    "\n",
    "plt.show()"
   ]
  },
  {
   "cell_type": "code",
   "execution_count": 96,
   "id": "badc3d35",
   "metadata": {},
   "outputs": [],
   "source": [
    "z = np.add(y1, y2)"
   ]
  },
  {
   "cell_type": "code",
   "execution_count": 97,
   "id": "9b34f3d7",
   "metadata": {},
   "outputs": [
    {
     "data": {
      "image/png": "[encoded data removed]",
      "text/plain": [
       "<Figure size 432x288 with 1 Axes>"
      ]
     },
     "metadata": {
      "needs_background": "light"
     },
     "output_type": "display_data"
    }
   ],
   "source": [
    "plt.plot(x, z)\n",
    "plt.show()"
   ]
  },
  {
   "cell_type": "code",
   "execution_count": 98,
   "id": "afacdd61",
   "metadata": {},
   "outputs": [
    {
     "data": {
      "text/plain": [
       "array([2, 5, 3, 8, 5, 6])"
      ]
     },
     "execution_count": 98,
     "metadata": {},
     "output_type": "execute_result"
    }
   ],
   "source": [
    "a"
   ]
  },
  {
   "cell_type": "code",
   "execution_count": 99,
   "id": "a8caf69e",
   "metadata": {},
   "outputs": [
    {
     "data": {
      "text/plain": [
       "array([False,  True, False,  True,  True,  True])"
      ]
     },
     "execution_count": 99,
     "metadata": {},
     "output_type": "execute_result"
    }
   ],
   "source": [
    "a > 4"
   ]
  },
  {
   "cell_type": "code",
   "execution_count": 100,
   "id": "611473d0",
   "metadata": {},
   "outputs": [
    {
     "data": {
      "text/plain": [
       "array([5, 8, 5, 6])"
      ]
     },
     "execution_count": 100,
     "metadata": {},
     "output_type": "execute_result"
    }
   ],
   "source": [
    "a[a > 4]"
   ]
  },
  {
   "cell_type": "code",
   "execution_count": 104,
   "id": "cabeaa46",
   "metadata": {},
   "outputs": [
    {
     "data": {
      "text/plain": [
       "array([5, 5, 6])"
      ]
     },
     "execution_count": 104,
     "metadata": {},
     "output_type": "execute_result"
    }
   ],
   "source": [
    "a[(a > 4) & (a < 7)]"
   ]
  },
  {
   "cell_type": "code",
   "execution_count": 107,
   "id": "6cab228c",
   "metadata": {},
   "outputs": [
    {
     "data": {
      "text/plain": [
       "4.833333333333333"
      ]
     },
     "execution_count": 107,
     "metadata": {},
     "output_type": "execute_result"
    }
   ],
   "source": [
    "np.mean(a)"
   ]
  },
  {
   "cell_type": "code",
   "execution_count": 108,
   "id": "50fcd6ab",
   "metadata": {},
   "outputs": [
    {
     "data": {
      "text/plain": [
       "4.833333333333333"
      ]
     },
     "execution_count": 108,
     "metadata": {},
     "output_type": "execute_result"
    }
   ],
   "source": [
    "a.mean()"
   ]
  },
  {
   "cell_type": "code",
   "execution_count": 111,
   "id": "2c3ce497",
   "metadata": {},
   "outputs": [
    {
     "data": {
      "text/plain": [
       "5.0"
      ]
     },
     "execution_count": 111,
     "metadata": {},
     "output_type": "execute_result"
    }
   ],
   "source": [
    "np.median(a)"
   ]
  },
  {
   "cell_type": "code",
   "execution_count": 112,
   "id": "22a8a5ed",
   "metadata": {},
   "outputs": [
    {
     "data": {
      "text/plain": [
       "5.0"
      ]
     },
     "execution_count": 112,
     "metadata": {},
     "output_type": "execute_result"
    }
   ],
   "source": [
    "np.percentile(a, 50)"
   ]
  },
  {
   "cell_type": "code",
   "execution_count": 113,
   "id": "bc628d89",
   "metadata": {},
   "outputs": [
    {
     "data": {
      "text/plain": [
       "3.5"
      ]
     },
     "execution_count": 113,
     "metadata": {},
     "output_type": "execute_result"
    }
   ],
   "source": [
    "np.percentile(a, 25)"
   ]
  },
  {
   "cell_type": "code",
   "execution_count": 114,
   "id": "c21da421",
   "metadata": {},
   "outputs": [
    {
     "data": {
      "text/plain": [
       "5.75"
      ]
     },
     "execution_count": 114,
     "metadata": {},
     "output_type": "execute_result"
    }
   ],
   "source": [
    "np.percentile(a, 75)"
   ]
  },
  {
   "cell_type": "markdown",
   "id": "bc43e9fd",
   "metadata": {},
   "source": [
    "## Polynomal\n",
    "\n",
    "Linear : $y = ax + b$\n",
    "\n",
    "Quadratic: $y = ax^2 + bx + c$"
   ]
  },
  {
   "cell_type": "code",
   "execution_count": 124,
   "id": "06a960fa",
   "metadata": {},
   "outputs": [],
   "source": [
    "x = np.linspace(-10, 10, 200)"
   ]
  },
  {
   "cell_type": "code",
   "execution_count": 125,
   "id": "63f6ff26",
   "metadata": {},
   "outputs": [],
   "source": [
    "f = np.poly1d((2, 5, 4))"
   ]
  },
  {
   "cell_type": "code",
   "execution_count": 126,
   "id": "51dfcabc",
   "metadata": {},
   "outputs": [],
   "source": [
    "y = f(x)"
   ]
  },
  {
   "cell_type": "code",
   "execution_count": 127,
   "id": "8a2458fb",
   "metadata": {},
   "outputs": [
    {
     "data": {
      "image/png": "[encoded data removed]",
      "text/plain": [
       "<Figure size 432x288 with 1 Axes>"
      ]
     },
     "metadata": {
      "needs_background": "light"
     },
     "output_type": "display_data"
    }
   ],
   "source": [
    "plt.plot(x, y)\n",
    "plt.show()"
   ]
  },
  {
   "cell_type": "markdown",
   "id": "93e07f02",
   "metadata": {},
   "source": [
    "## Random"
   ]
  },
  {
   "cell_type": "code",
   "execution_count": 137,
   "id": "b4725cdb",
   "metadata": {},
   "outputs": [
    {
     "data": {
      "text/plain": [
       "array([178.69515397, 176.31481142, 183.76832598, 173.30226007,\n",
       "       169.68390415, 167.76416994, 182.35715   , 175.40898784,\n",
       "       179.62487779, 165.12694984, 198.31076221, 176.59215   ,\n",
       "       174.68324574, 175.15209953, 168.13994426, 178.51612751,\n",
       "       168.40363508, 181.13281187, 186.33779957, 183.67789236,\n",
       "       172.55448971, 194.21429924, 161.57510771, 184.81020085,\n",
       "       180.50973346, 173.07541063, 164.41946324, 190.12781304,\n",
       "       194.91697872, 165.84414043, 164.42422207, 187.70894935,\n",
       "       182.90683307, 170.23120061, 172.4775397 , 167.28707529,\n",
       "       179.71643354, 168.60123564, 198.84645294, 167.47383682,\n",
       "       177.63565022, 200.42119579, 178.72665201, 168.5545055 ,\n",
       "       175.3199825 , 171.84788327, 177.81456969, 178.68389809,\n",
       "       203.05985645, 167.31744227, 185.03265273, 186.94545621,\n",
       "       182.64725384, 171.09902665, 183.06181069, 170.24002879,\n",
       "       183.94761595, 170.69938809, 171.20288151, 167.79382459,\n",
       "       180.45575987, 176.19011342, 194.67536038, 183.04908487,\n",
       "       166.47265619, 180.01991665, 183.00780325, 197.02102166,\n",
       "       170.31816696, 180.87333141, 187.30497429, 178.09003728,\n",
       "       166.34224856, 172.70825256, 175.53819633, 174.57379167,\n",
       "       175.55901025, 171.12906639, 179.42715764, 176.56289373,\n",
       "       163.68439579, 180.27103203, 180.65606263, 183.24776986,\n",
       "       165.56687896, 164.28594515, 195.01881208, 172.10306123,\n",
       "       186.07046327, 172.87662028, 191.59506013, 182.65621863,\n",
       "       182.55450162, 196.58300674, 176.2954091 , 176.5987417 ,\n",
       "       199.10702008, 176.034458  , 180.37972355, 175.71531033,\n",
       "       182.1816134 , 196.37985754, 174.03842642, 164.11156115,\n",
       "       176.62687168, 156.59022449, 168.49915739, 180.12067028,\n",
       "       189.57504315, 186.14013209, 177.7555571 , 182.11444092,\n",
       "       182.1137206 , 185.22905548, 172.35451577, 169.54623196,\n",
       "       178.74854968, 178.64694252, 179.98959477, 174.13009605,\n",
       "       176.02495117, 161.31804916, 173.69659007, 190.18990717,\n",
       "       178.77534323, 158.35590344, 169.25532643, 181.22467135,\n",
       "       188.48021893, 153.67607715, 151.04390491, 173.53790771,\n",
       "       190.59080154, 171.18982654, 169.9981355 , 166.20702862,\n",
       "       154.91389887, 185.01287169, 179.47600866, 172.74462265,\n",
       "       178.79240956, 177.26405469, 192.19469547, 188.61920213,\n",
       "       170.41860827, 178.58441641, 172.00302244, 163.65034343,\n",
       "       172.19806967, 193.15655829, 180.09705273, 165.74318785,\n",
       "       186.86630692, 178.69007628, 170.03954031, 190.95867098,\n",
       "       191.38979335, 195.45253248, 165.17667613, 178.63718112,\n",
       "       166.84191299, 171.70317233, 181.69922391, 175.58910259,\n",
       "       175.85036855, 169.07829336, 185.04369121, 167.33825678,\n",
       "       182.02878098, 170.55664762, 180.19018615, 176.56700562,\n",
       "       194.91577713, 168.32970881, 195.29586063, 176.86342772,\n",
       "       183.61934755, 179.22613946, 191.63010522, 187.18398724,\n",
       "       169.22461775, 208.33757437, 182.24678898, 167.03354799,\n",
       "       174.33095609, 182.37497645, 190.84853607, 178.85445675,\n",
       "       189.96475185, 188.41147279, 172.72904603, 167.02806403,\n",
       "       181.32326391, 198.04640192, 189.75082915, 191.73503986,\n",
       "       175.85873715, 184.3985933 , 182.49938975, 174.88718173,\n",
       "       197.99280942, 176.43441455, 179.98642096, 170.22225857,\n",
       "       177.45417605, 177.41569084, 189.12322147, 177.44574909,\n",
       "       190.4376342 , 180.18932985, 173.03439465, 170.10193544,\n",
       "       167.26586362, 187.65574152, 182.12828301, 185.79232273,\n",
       "       187.97260501, 156.70886858, 165.18805479, 170.17086869,\n",
       "       186.78142176, 180.68911452, 186.74205146, 183.75794397,\n",
       "       174.59066008, 196.22424142, 182.25553314, 165.21387407,\n",
       "       185.66629653, 172.12929079, 169.46549824, 171.78604871,\n",
       "       172.4872072 , 181.69822587, 171.29312817, 178.80085409,\n",
       "       183.97996873, 170.7834841 , 179.01838299, 176.48864658,\n",
       "       185.86887652, 175.8445789 , 190.48041036, 167.66048929,\n",
       "       192.29763676, 190.23068116, 178.7808663 , 188.56720405,\n",
       "       200.9372644 , 173.82700888, 176.78297151, 200.28969676,\n",
       "       177.36259533, 175.93319473, 170.86043295, 171.76358223,\n",
       "       165.05692294, 177.89926686, 168.07710571, 193.97735336,\n",
       "       177.73213883, 190.57928822, 188.01361137, 185.30653343,\n",
       "       196.0809164 , 198.88572588, 191.84171967, 186.93432011,\n",
       "       162.2802624 , 203.50681447, 191.52856771, 194.15400348,\n",
       "       168.64915029, 184.70040221, 179.8587024 , 163.76708791,\n",
       "       182.27489344, 175.04547953, 189.00117716, 194.38978986,\n",
       "       170.86079085, 183.49658007, 170.23348845, 186.6935383 ,\n",
       "       182.19485054, 182.20406376, 176.47340213, 177.0639678 ,\n",
       "       168.13187727, 181.10904715, 189.00860119, 195.63560869,\n",
       "       188.47568943, 181.57751578, 166.0032699 , 192.04088628,\n",
       "       165.52072827, 174.7861963 , 192.37850754, 168.03372685,\n",
       "       157.07462271, 181.21113854, 175.77666633, 169.99506855,\n",
       "       183.35033948, 184.56270831, 168.29419169, 168.53512103,\n",
       "       195.05377451, 165.42494866, 192.11202931, 177.63860074,\n",
       "       162.44633702, 194.48450992, 175.38808088, 182.45244066,\n",
       "       165.03971426, 189.88612854, 186.32653567, 165.05217161,\n",
       "       183.42604765, 192.88171081, 152.50904427, 179.65591755,\n",
       "       166.7195158 , 175.28926666, 152.87852814, 178.46260742,\n",
       "       177.37632223, 187.770675  , 167.18697324, 177.37475548,\n",
       "       190.96396103, 164.29884071, 178.03789397, 178.85479589,\n",
       "       175.19969608, 199.66749343, 165.71574554, 163.01774464,\n",
       "       179.05123129, 180.33862118, 162.37217328, 191.60575405,\n",
       "       172.35463588, 166.72365837, 174.23654911, 193.50958336,\n",
       "       177.47708308, 182.22299382, 193.67962131, 199.71275037,\n",
       "       178.07030829, 162.52865842, 181.17379455, 168.55678874,\n",
       "       184.70941348, 157.8080267 , 169.53432913, 173.7711749 ,\n",
       "       184.40466238, 177.34706439, 195.09791232, 169.21058269,\n",
       "       169.07097808, 192.31073061, 178.95897137, 192.00115532,\n",
       "       179.53481165, 178.22234401, 181.75604709, 170.88949858,\n",
       "       205.2293845 , 168.71315712, 178.84338787, 182.19690029,\n",
       "       188.12792514, 173.26742372, 164.5284621 , 188.15803096,\n",
       "       182.59972534, 205.19438525, 168.02212309, 167.83542647,\n",
       "       182.88121686, 186.89213061, 176.72226736, 179.09994124,\n",
       "       190.04849463, 172.72796036, 164.3882    , 175.91223086,\n",
       "       170.22018919, 161.41217986, 170.31292639, 170.63538485,\n",
       "       184.22400133, 187.24767336, 183.77124689, 196.3452142 ,\n",
       "       175.0496804 , 179.67010146, 190.608013  , 177.29595563,\n",
       "       174.73043707, 189.75649193, 179.48949627, 165.45771202,\n",
       "       167.16220639, 171.71827416, 185.65678621, 185.03783833,\n",
       "       175.78205895, 196.78219401, 184.77806394, 176.18346351,\n",
       "       175.10678739, 172.83913248, 188.53190884, 174.13406461,\n",
       "       186.50060494, 180.03355698, 164.02689693, 168.59808124,\n",
       "       163.58522508, 177.58238657, 170.74898824, 182.20081856,\n",
       "       178.94593238, 196.86772687, 207.38165322, 182.84001112,\n",
       "       170.67246259, 178.68906964, 167.93100476, 178.55261425,\n",
       "       182.4588535 , 183.22602625, 175.21693125, 155.65800977,\n",
       "       175.24682576, 192.61565764, 197.50956149, 191.26637257,\n",
       "       179.32163665, 182.46120117, 179.45109555, 171.96306472,\n",
       "       178.47290813, 180.52817838, 196.95038125, 165.33644911,\n",
       "       173.27582929, 190.09233487, 176.45461288, 199.62726644,\n",
       "       178.21903182, 183.81582592, 180.93491971, 194.477994  ,\n",
       "       176.75175144, 182.17233769, 175.63337222, 189.65969062,\n",
       "       172.7613547 , 160.58985622, 173.98775031, 168.24243505,\n",
       "       201.46875004, 190.95340634, 199.17779161, 192.32391244,\n",
       "       191.57734818, 174.99122115, 182.06100649, 168.83602371,\n",
       "       167.60219162, 186.45665611, 184.66397905, 167.36423598,\n",
       "       169.49528288, 197.54143191, 191.82171333, 181.24755222,\n",
       "       176.11648283, 186.80266573, 181.90614717, 183.69507645,\n",
       "       193.88518769, 191.56327838, 189.28906122, 181.73486646,\n",
       "       160.87038661, 178.02081035, 189.37643848, 172.12822807,\n",
       "       171.39313478, 166.38869793, 193.63398234, 186.89483256,\n",
       "       184.71295972, 202.70120676, 184.79903316, 160.04043341,\n",
       "       191.63772378, 185.74790577, 187.713584  , 183.25742628,\n",
       "       178.75388799, 164.97804745, 175.39349813, 197.26944423,\n",
       "       177.80439404, 168.60326534, 173.46858181, 167.53808381,\n",
       "       181.70466612, 184.84471207, 192.35788364, 174.72854261,\n",
       "       177.35422904, 170.042806  , 175.56179216, 160.60064343,\n",
       "       175.13450893, 208.91242366, 179.54946309, 178.61571607,\n",
       "       191.89393399, 180.44245989, 183.43248945, 171.84125934,\n",
       "       178.41217084, 192.13389692, 164.11526973, 167.54567892,\n",
       "       172.53665192, 183.28436608, 166.82502046, 186.26640211,\n",
       "       174.31819314, 199.40873623, 172.54509177, 170.0988576 ,\n",
       "       177.22271101, 176.87592522, 182.62693429, 188.07848867,\n",
       "       201.62572469, 180.96631144, 173.47392827, 189.7202235 ,\n",
       "       188.74781002, 160.72072735, 183.45925377, 180.19737702,\n",
       "       169.74204484, 174.1298998 , 183.72628352, 176.01495635,\n",
       "       178.34667389, 174.03493638, 175.37605602, 173.13762358,\n",
       "       178.46022721, 186.35049687, 180.2595338 , 174.13809075,\n",
       "       178.98093529, 181.31139124, 175.58677151, 172.55420179,\n",
       "       179.55678537, 173.31805085, 176.49093866, 190.60552362,\n",
       "       172.59636573, 192.38865063, 170.41766176, 172.85141359,\n",
       "       188.7228284 , 188.12668295, 185.2827151 , 182.25857949,\n",
       "       186.06478199, 194.49611787, 180.33044781, 185.1158192 ,\n",
       "       186.88031714, 175.50967023, 169.29916871, 192.6689961 ,\n",
       "       171.81913848, 183.16963632, 182.98224269, 180.18051737,\n",
       "       192.1083313 , 195.36841005, 168.89872066, 195.32971907,\n",
       "       179.70971935, 200.58549496, 181.05674122, 165.07908003,\n",
       "       168.39010499, 191.66510806, 163.44895135, 172.8559226 ,\n",
       "       155.03814491, 171.64421562, 177.33810441, 194.23079722,\n",
       "       181.33622362, 183.1671165 , 192.24845223, 170.3596453 ,\n",
       "       179.64479641, 162.10058346, 179.4430089 , 204.13431165,\n",
       "       190.0412501 , 172.14216364, 177.03446391, 171.76386108,\n",
       "       173.0771116 , 185.3505749 , 176.99472798, 166.59446069,\n",
       "       170.1729813 , 170.98102525, 189.09885805, 172.21549587,\n",
       "       196.13189407, 189.86789144, 176.88489933, 184.80682444,\n",
       "       183.10136156, 178.86414338, 174.51605413, 160.8848476 ,\n",
       "       167.23119261, 177.72111057, 174.90635348, 169.75491053,\n",
       "       175.62832434, 168.74591341, 181.81574298, 191.89571643,\n",
       "       178.12995343, 193.71936331, 180.53432884, 169.9250447 ,\n",
       "       200.55661703, 179.62949307, 188.3799161 , 189.24499379,\n",
       "       197.64047665, 181.99110321, 185.12799936, 186.59003   ,\n",
       "       168.63571271, 193.0610153 , 180.70769743, 180.22510254,\n",
       "       173.94510526, 170.8417583 , 197.06126002, 181.04392827,\n",
       "       181.5121473 , 177.94459603, 176.78481598, 188.75664523,\n",
       "       185.20296282, 203.77729658, 178.6058362 , 186.79736806,\n",
       "       184.52918357, 178.97284115, 190.88691532, 177.32677802,\n",
       "       186.67081701, 182.91723575, 180.33232894, 184.48243385,\n",
       "       173.2660181 , 175.4035146 , 169.44731396, 174.39841312,\n",
       "       176.69873681, 184.28640191, 192.99286862, 161.02161522,\n",
       "       186.70529333, 166.43008916, 176.54344409, 182.84991621,\n",
       "       188.75206023, 185.10459337, 183.08609307, 179.53911374,\n",
       "       176.56790889, 184.88119207, 163.37593794, 193.57133807,\n",
       "       174.76443912, 187.93627147, 184.6144687 , 161.62919316,\n",
       "       179.23481995, 180.9023986 , 189.75063545, 193.46402642,\n",
       "       178.2514931 , 172.02642052, 189.4763628 , 176.90536814,\n",
       "       193.59127361, 176.37920451, 175.10070607, 160.58878747,\n",
       "       182.00294939, 186.03276512, 162.74715475, 189.25438967,\n",
       "       173.97818864, 205.38001297, 170.70479036, 177.29788376,\n",
       "       184.91527829, 161.31304344, 172.91329619, 173.62535301,\n",
       "       184.80873387, 193.60407904, 189.54631355, 175.6919309 ,\n",
       "       179.30020653, 167.51916717, 176.7029452 , 173.42528043,\n",
       "       186.10313622, 161.72894264, 179.10776083, 179.43888816,\n",
       "       179.45506111, 187.30919802, 171.65343728, 185.31444807,\n",
       "       183.55821583, 184.07247274, 185.58501335, 171.73108859,\n",
       "       190.0976729 , 184.10358792, 181.1289662 , 187.52340426,\n",
       "       180.26840739, 193.98521217, 183.90972094, 182.22479018,\n",
       "       204.76710497, 158.74253253, 174.09932742, 157.37543453,\n",
       "       173.2222803 , 188.16044202, 181.32216631, 186.99073034,\n",
       "       187.43775056, 174.73225786, 169.54878165, 181.36130805,\n",
       "       153.44180981, 170.29416303, 175.87095735, 174.65105719,\n",
       "       172.73327919, 157.24707669, 179.4956367 , 174.89317468,\n",
       "       184.62227032, 186.16054337, 178.67025504, 180.43188132,\n",
       "       174.11296406, 161.88835058, 175.11467374, 183.9619702 ,\n",
       "       183.10758063, 173.39582576, 172.00087225, 178.27401272,\n",
       "       179.66454464, 166.63177398, 185.08446886, 179.11948913,\n",
       "       185.7676689 , 186.5522229 , 189.08438841, 186.30073549,\n",
       "       182.86686243, 184.05982323, 196.39825651, 179.40900106,\n",
       "       186.74096895, 197.93825615, 194.98452001, 174.67279349,\n",
       "       173.74423288, 179.00965671, 176.29394375, 180.79162536,\n",
       "       174.33847523, 165.16782976, 178.07144755, 182.83194237,\n",
       "       180.60724027, 180.17085842, 171.75731698, 171.8997243 ,\n",
       "       188.62557391, 162.34917836, 163.87927671, 175.80858976,\n",
       "       176.68305701, 173.42254466, 159.90587953, 175.32776014,\n",
       "       190.31248775, 178.42957212, 175.8807362 , 183.48661029,\n",
       "       181.14622495, 171.71913174, 180.08270779, 174.26390102,\n",
       "       184.31163363, 175.25054656, 184.72204265, 181.69935792,\n",
       "       181.94313034, 183.195864  , 180.00354041, 186.1179023 ,\n",
       "       166.93494974, 182.75710922, 166.6190747 , 192.61906157,\n",
       "       171.82984633, 188.42190023, 183.17265247, 175.5777215 ,\n",
       "       200.27496532, 182.03423372, 185.25005494, 173.54143502,\n",
       "       182.95744005, 167.96201263, 190.58638737, 164.73121323,\n",
       "       185.00409115, 179.23298417, 182.92727908, 163.24304618,\n",
       "       172.55065542, 167.15216036, 204.15162481, 177.80495711,\n",
       "       174.40112983, 187.38230623, 202.75831628, 171.91278547,\n",
       "       176.83896646, 187.3655913 , 193.37357299, 188.44667992,\n",
       "       176.35369054, 168.65205829, 179.98365803, 187.50767084,\n",
       "       171.95879554, 180.94004356, 187.67109906, 191.61459583,\n",
       "       182.85456501, 186.23976378, 170.38932119, 179.06957836,\n",
       "       182.36328601, 162.53392258, 187.05931372, 182.24717858,\n",
       "       164.95754551, 184.98110566, 186.08598338, 184.06854079,\n",
       "       175.02133592, 185.15777817, 161.42897165, 175.63470165,\n",
       "       164.07371092, 176.41028682, 174.48538519, 169.1433664 ,\n",
       "       168.03867331, 179.86518285, 167.04519836, 157.78726164,\n",
       "       183.82197134, 191.00097257, 193.45163941, 177.57652225,\n",
       "       187.2378277 , 179.5152583 , 188.77042202, 183.40257084,\n",
       "       180.40021374, 169.09350049, 179.04781967, 169.87286684,\n",
       "       166.69257519, 186.05793659, 186.88550092, 173.93738574,\n",
       "       182.29324507, 179.02564564, 185.29287078, 164.16182271,\n",
       "       185.97403468, 196.32440102, 182.35725048, 184.97339455,\n",
       "       183.06239724, 186.12537294, 156.91932397, 166.10452946,\n",
       "       175.78926572, 180.16552454, 164.48954474, 167.44574839,\n",
       "       165.91575923, 167.09042271, 197.79277926, 193.63782275,\n",
       "       179.43645923, 201.51594196, 184.16934399, 179.06630564,\n",
       "       191.42257653, 176.53425628, 171.42791405, 163.45355912,\n",
       "       177.86169356, 171.30063982, 191.57555543, 176.37899204,\n",
       "       181.01638219, 172.05999305, 175.79351981, 189.39644739,\n",
       "       188.64443574, 173.61347992, 168.51806696, 168.19799451,\n",
       "       181.99965135, 161.75832877, 188.63040733, 163.59958267,\n",
       "       185.03074026, 161.97348285, 177.11695924, 174.45603973,\n",
       "       178.21700135, 187.38680466, 168.32972487, 171.01982955,\n",
       "       185.04898854, 166.99588462, 183.1128308 , 188.69195632,\n",
       "       168.05833144, 157.15994733, 182.87554506, 184.35644186,\n",
       "       181.60887253, 187.23818417, 171.24019831, 185.26066156,\n",
       "       200.63175415, 191.78180209, 181.97055808, 185.99497914,\n",
       "       176.30296711, 186.86915317, 181.62813712, 177.89730711,\n",
       "       180.26340789, 184.4314198 , 187.05664237, 184.46150833])"
      ]
     },
     "execution_count": 137,
     "metadata": {},
     "output_type": "execute_result"
    }
   ],
   "source": [
    "x = np.random.randn(1000)*10 + 180\n",
    "x"
   ]
  },
  {
   "cell_type": "code",
   "execution_count": 138,
   "id": "37fb11c0",
   "metadata": {},
   "outputs": [
    {
     "data": {
      "image/png": "[encoded data removed]",
      "text/plain": [
       "<Figure size 432x288 with 1 Axes>"
      ]
     },
     "metadata": {
      "needs_background": "light"
     },
     "output_type": "display_data"
    }
   ],
   "source": [
    "plt.hist(x, bins = 20)\n",
    "plt.show()"
   ]
  },
  {
   "cell_type": "code",
   "execution_count": null,
   "id": "2dff7b82",
   "metadata": {},
   "outputs": [],
   "source": []
  }
 ],
 "metadata": {
  "kernelspec": {
   "display_name": "Python 3.9.5 64-bit ('base': conda)",
   "language": "python",
   "name": "python395jvsc74a57bd0e7cb1b9ae4d417fedf7f40a8eec98f7cfbd359e096bd857395a915f4609834ce"
  },
  "language_info": {
   "codemirror_mode": {
    "name": "ipython",
    "version": 3
   },
   "file_extension": ".py",
   "mimetype": "text/x-python",
   "name": "python",
   "nbconvert_exporter": "python",
   "pygments_lexer": "ipython3",
   "version": "3.9.9"
  }
 },
 "nbformat": 4,
 "nbformat_minor": 5
}
